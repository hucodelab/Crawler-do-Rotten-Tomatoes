{
 "cells": [
  {
   "cell_type": "code",
   "execution_count": 1,
   "metadata": {
    "executionInfo": {
     "elapsed": 1256,
     "status": "ok",
     "timestamp": 1670549956840,
     "user": {
      "displayName": "Davi Felix de Lima",
      "userId": "03574789560232552792"
     },
     "user_tz": 180
    },
    "id": "n4rw9MNljdFT"
   },
   "outputs": [],
   "source": [
    "import requests\n",
    "import json\n",
    "import pandas as pd\n",
    "import gzip"
   ]
  },
  {
   "cell_type": "code",
   "execution_count": 2,
   "metadata": {
    "executionInfo": {
     "elapsed": 33,
     "status": "ok",
     "timestamp": 1670549956848,
     "user": {
      "displayName": "Davi Felix de Lima",
      "userId": "03574789560232552792"
     },
     "user_tz": 180
    },
    "id": "UzxErgTdjfHu"
   },
   "outputs": [],
   "source": [
    "base_url = \"https://api.themoviedb.org/3\""
   ]
  },
  {
   "cell_type": "code",
   "execution_count": 3,
   "metadata": {
    "executionInfo": {
     "elapsed": 231,
     "status": "ok",
     "timestamp": 1670553810384,
     "user": {
      "displayName": "Davi Felix de Lima",
      "userId": "03574789560232552792"
     },
     "user_tz": 180
    },
    "id": "FXQfKOoKgjmP"
   },
   "outputs": [],
   "source": [
    "# Faz requisição para API, tendo como padrão a API_KEY e a linguagem\n",
    "def make_request(endpoint, additional_params = None):\n",
    "    default_params = {'api_key': '3ca27b067484f1867da24107d9ed9222', 'language': 'pt-BR'}\n",
    "    if additional_params:\n",
    "      default_params.update(additional_params)\n",
    "    req = requests.get(base_url + endpoint, params=default_params)\n",
    "    return req"
   ]
  },
  {
   "cell_type": "markdown",
   "metadata": {
    "id": "VaOidbaFRy5M"
   },
   "source": [
    "## Funções para moantar datasets (Tasks)"
   ]
  },
  {
   "cell_type": "markdown",
   "metadata": {
    "id": "SBhvlPb6g0nS"
   },
   "source": [
    "Essa função  responsável por transformar os dados retornados pela API em um dataframe contendo apenas as features selecionadas e criadas para as necessidades do projeto"
   ]
  },
  {
   "cell_type": "code",
   "execution_count": 4,
   "metadata": {
    "executionInfo": {
     "elapsed": 34,
     "status": "ok",
     "timestamp": 1670549956850,
     "user": {
      "displayName": "Davi Felix de Lima",
      "userId": "03574789560232552792"
     },
     "user_tz": 180
    },
    "id": "nJ5BLK6SR2XD"
   },
   "outputs": [],
   "source": [
    "# Trata o dataset de filmes ou séries, padronizando nomes, adaptando e criando novas features\n",
    "def make_media_dataframe(movies_dict):\n",
    "  final_df = pd.DataFrame.from_dict(movies_dict)\n",
    "\n",
    "  final_df.set_index('id', inplace=True)\n",
    "  \n",
    "  # Padroniza os nomes das features para filmes e séries\n",
    "  final_df.rename(columns={\n",
    "    'name': 'title',\n",
    "    'original_name': 'original_title',\n",
    "    'first_air_date': 'release_date'\n",
    "  }, inplace=True, errors='ignore')\n",
    "  \n",
    "  final_df.drop(['adult', 'backdrop_path', 'original_language', 'video'], inplace=True, axis=1, errors='ignore')\n",
    "  \n",
    "  final_df['poster_path'] = 'https://image.tmdb.org/t/p/w220_and_h330_face' + final_df['poster_path']\n",
    "  \n",
    "  final_df['release_date'] = pd.to_datetime(final_df['release_date'])\n",
    "  final_df['release_year'] = final_df['release_date'].dt.year\n",
    "  \n",
    "  return final_df"
   ]
  },
  {
   "cell_type": "markdown",
   "metadata": {
    "id": "039Qt8-Jg-dZ"
   },
   "source": [
    "Essa função é responsável por fazer a requisição na rota de detalhes de um filme ou série a fim de obter dados mais específicos sobre ele.\n",
    "O campo a ser retornado (`detail_fields`) pode ser uma string especificando o nome do campo ou um dicionário no qual é especifica uma função que, executada no valor origianal daquele campo (`fieldName`, retornado pela API) gera o valor final desejado no campo de chave `finalName`."
   ]
  },
  {
   "cell_type": "code",
   "execution_count": 5,
   "metadata": {
    "executionInfo": {
     "elapsed": 921,
     "status": "ok",
     "timestamp": 1670549957739,
     "user": {
      "displayName": "Davi Felix de Lima",
      "userId": "03574789560232552792"
     },
     "user_tz": 180
    },
    "id": "NIJuggsHdtEh"
   },
   "outputs": [],
   "source": [
    "def complete(media_type, media, detail_fields):\n",
    "  endpoint = f'/{media_type}/{media[\"id\"]}'\n",
    "  res = make_request(endpoint)\n",
    "  data = {}\n",
    "  values = {}\n",
    "  if res.ok:\n",
    "    try:\n",
    "      data = json.loads(res.text)\n",
    "    except:\n",
    "      data = {}\n",
    "    for field in detail_fields:\n",
    "      try:\n",
    "        if type(field) == str:\n",
    "          values[field] = data[field]\n",
    "        elif type(field) == dict:\n",
    "          values[field['finalName']] = field['func'](data[field['fieldName']])\n",
    "      except (KeyError):\n",
    "        fieldName = field['finalName'] if type(field) == dict else field\n",
    "        values[fieldName] = None\n",
    "      \n",
    "    media.update(values)"
   ]
  },
  {
   "cell_type": "markdown",
   "metadata": {
    "id": "g1GoEcXsay0S"
   },
   "source": [
    "Função responsável por recuperar dados da rota trending para filmes ou para séries"
   ]
  },
  {
   "cell_type": "code",
   "execution_count": 6,
   "metadata": {
    "executionInfo": {
     "elapsed": 50,
     "status": "ok",
     "timestamp": 1670549957750,
     "user": {
      "displayName": "Davi Felix de Lima",
      "userId": "03574789560232552792"
     },
     "user_tz": 180
    },
    "id": "wGpFOrjxcCvp"
   },
   "outputs": [],
   "source": [
    "def get_trending(trending_type, time_interval, detail_fields, pages):\n",
    "    endpoint = f'/trending/{trending_type}/{time_interval}'\n",
    "    \n",
    "    return make_media_list(endpoint, pages, trending_type, detail_fields, {})"
   ]
  },
  {
   "cell_type": "markdown",
   "metadata": {
    "id": "wHnOzCdBa1ox"
   },
   "source": [
    "Fução responsável por formar uma lista com filmes ou séries a partir dos dados retornados por uma rota. Ela também itera pelas páginas especificadas no parâmetro `pages`"
   ]
  },
  {
   "cell_type": "code",
   "execution_count": 7,
   "metadata": {
    "executionInfo": {
     "elapsed": 311,
     "status": "ok",
     "timestamp": 1670553932245,
     "user": {
      "displayName": "Davi Felix de Lima",
      "userId": "03574789560232552792"
     },
     "user_tz": 180
    },
    "id": "7y1JOlyZb3T_"
   },
   "outputs": [],
   "source": [
    "def make_media_list(endpoint, pages, media_type, detail_fields, params):\n",
    "    response = make_request(endpoint, params)\n",
    "\n",
    "    if not response.ok or not response.text:\n",
    "      raise Exception('Error in the request')\n",
    "\n",
    "    data = json.loads(response.text)\n",
    "\n",
    "    if data['total_results'] == 0:\n",
    "      return []\n",
    "\n",
    "    final_list = data['results']\n",
    "    pages = min(pages, data['total_pages'])\n",
    "    \n",
    "    final_list.extend(iter_pages(endpoint, 2, pages, params))\n",
    "\n",
    "    if detail_fields:\n",
    "      for media in final_list:\n",
    "        complete(media_type, media, detail_fields)\n",
    "\n",
    "    return final_list"
   ]
  },
  {
   "cell_type": "markdown",
   "metadata": {
    "id": "8YvaaM6epaIj"
   },
   "source": [
    "Função para iterar pelas páginas de uma resposta"
   ]
  },
  {
   "cell_type": "code",
   "execution_count": 8,
   "metadata": {
    "executionInfo": {
     "elapsed": 252,
     "status": "ok",
     "timestamp": 1670553970500,
     "user": {
      "displayName": "Davi Felix de Lima",
      "userId": "03574789560232552792"
     },
     "user_tz": 180
    },
    "id": "WXeg7wu3k-nD"
   },
   "outputs": [],
   "source": [
    "def iter_pages(endpoint, intial_page, end_page, params = None):\n",
    "  results = []\n",
    "  \n",
    "  for i in range (intial_page, end_page + 1):\n",
    "    page_param =  {'page': i}\n",
    "    \n",
    "    if params:\n",
    "      page_param.update(params)\n",
    "\n",
    "    page_param.update(params)\n",
    "    \n",
    "    response = make_request(endpoint, page_param)\n",
    "    data = json.loads(response.text)\n",
    "    results.extend(data['results'])\n",
    "\n",
    "  return results"
   ]
  },
  {
   "cell_type": "markdown",
   "metadata": {
    "id": "gEINS-Ayun0M"
   },
   "source": [
    "# Dataset de gêneros"
   ]
  },
  {
   "cell_type": "code",
   "execution_count": 9,
   "metadata": {
    "executionInfo": {
     "elapsed": 53,
     "status": "ok",
     "timestamp": 1670549957754,
     "user": {
      "displayName": "Davi Felix de Lima",
      "userId": "03574789560232552792"
     },
     "user_tz": 180
    },
    "id": "YzZ77xbkqyiu"
   },
   "outputs": [],
   "source": [
    "endpoint_genres_tv = '/genre/tv/list'\n",
    "endpoint_genres_movie = '/genre/movie/list'\n",
    "genres_tv_res = make_request(endpoint_genres_tv)\n",
    "genres_movie_res = make_request(endpoint_genres_movie)\n",
    "genres_movie = json.loads(genres_movie_res.text)['genres']\n",
    "genres_tv = json.loads(genres_tv_res.text)['genres']"
   ]
  },
  {
   "cell_type": "markdown",
   "metadata": {
    "id": "ldSpUUu3hGIx"
   },
   "source": [
    "Montagem de uma lista de gêneros a partir da qual os IDS de gênero presentes no retorno da API sejam mapeados para palavras. A partir dessa lista, iremos alterar alguns gêneros para termos o resultado esperado na aplicação final"
   ]
  },
  {
   "cell_type": "code",
   "execution_count": 10,
   "metadata": {
    "executionInfo": {
     "elapsed": 53,
     "status": "ok",
     "timestamp": 1670549957756,
     "user": {
      "displayName": "Davi Felix de Lima",
      "userId": "03574789560232552792"
     },
     "user_tz": 180
    },
    "id": "z1MkTqHUrZHo"
   },
   "outputs": [],
   "source": [
    "unique_genres = list(set([tuple(d.items()) for d in genres_movie + genres_tv]))\n",
    "unique_genres = [dict(genre) for genre in unique_genres]"
   ]
  },
  {
   "cell_type": "code",
   "execution_count": 11,
   "metadata": {
    "executionInfo": {
     "elapsed": 52,
     "status": "ok",
     "timestamp": 1670549957758,
     "user": {
      "displayName": "Davi Felix de Lima",
      "userId": "03574789560232552792"
     },
     "user_tz": 180
    },
    "id": "2nq7XVYrmH0K"
   },
   "outputs": [],
   "source": [
    "genres_map = {}\n",
    "for genre in unique_genres:\n",
    "  genres_map[genre['id']] = genre['name']"
   ]
  },
  {
   "cell_type": "code",
   "execution_count": 12,
   "metadata": {
    "colab": {
     "base_uri": "https://localhost:8080/"
    },
    "executionInfo": {
     "elapsed": 53,
     "status": "ok",
     "timestamp": 1670549957760,
     "user": {
      "displayName": "Davi Felix de Lima",
      "userId": "03574789560232552792"
     },
     "user_tz": 180
    },
    "id": "GPEXDadgW9uK",
    "outputId": "1cf733ff-91e8-4ac6-b04e-58276740b8f7"
   },
   "outputs": [
    {
     "data": {
      "text/plain": [
       "12                 Aventura\n",
       "10402                Música\n",
       "10751               Família\n",
       "10752                Guerra\n",
       "16                 Animação\n",
       "10765      Sci-Fi & Fantasy\n",
       "10763                  News\n",
       "10767                  Talk\n",
       "10768        War & Politics\n",
       "10764               Reality\n",
       "36                 História\n",
       "28                     Ação\n",
       "9648               Mistério\n",
       "10762                  Kids\n",
       "14                 Fantasia\n",
       "10749               Romance\n",
       "37                 Faroeste\n",
       "27                   Terror\n",
       "10770             Cinema TV\n",
       "18                    Drama\n",
       "99             Documentário\n",
       "878       Ficção científica\n",
       "80                    Crime\n",
       "53                 Thriller\n",
       "10766                  Soap\n",
       "35                  Comédia\n",
       "10759    Action & Adventure\n",
       "dtype: object"
      ]
     },
     "execution_count": 12,
     "metadata": {},
     "output_type": "execute_result"
    }
   ],
   "source": [
    "pd.Series(index=map(lambda i: i['id'], unique_genres), data=map(lambda i: i['name'], unique_genres))"
   ]
  },
  {
   "cell_type": "code",
   "execution_count": 13,
   "metadata": {
    "executionInfo": {
     "elapsed": 47,
     "status": "ok",
     "timestamp": 1670549957765,
     "user": {
      "displayName": "Davi Felix de Lima",
      "userId": "03574789560232552792"
     },
     "user_tz": 180
    },
    "id": "qDmyyUXoIDsX"
   },
   "outputs": [],
   "source": [
    "genres_map[10766] = 'Novela'\n",
    "genres_map[10765] = ['Ficção científica', 'Fantasia']\n",
    "genres_map[10762] = 'Infantil'\n",
    "genres_map[10768] = ['Guerra', 'Política']\n",
    "genres_map[10759] = ['Ação', 'Aventura']"
   ]
  },
  {
   "cell_type": "code",
   "execution_count": 14,
   "metadata": {
    "executionInfo": {
     "elapsed": 47,
     "status": "ok",
     "timestamp": 1670549957767,
     "user": {
      "displayName": "Davi Felix de Lima",
      "userId": "03574789560232552792"
     },
     "user_tz": 180
    },
    "id": "2DgATZMrW_Zb"
   },
   "outputs": [],
   "source": [
    "excluded = 10765, 10768, 10759\n",
    "added = ['Política']\n",
    "new_genres = []\n",
    "for key, genre in genres_map.items():\n",
    "  if key not in excluded:\n",
    "    new_genres.append({'id': abs(hash(genre)), 'name': genre})\n",
    "for genre in added:\n",
    "  new_genres.append({'id': abs(hash(genre)), 'name': genre})"
   ]
  },
  {
   "cell_type": "code",
   "execution_count": 15,
   "metadata": {
    "executionInfo": {
     "elapsed": 47,
     "status": "ok",
     "timestamp": 1670549957768,
     "user": {
      "displayName": "Davi Felix de Lima",
      "userId": "03574789560232552792"
     },
     "user_tz": 180
    },
    "id": "OrvpRqD0XrTI"
   },
   "outputs": [],
   "source": [
    "new_genres_df = pd.DataFrame.from_dict(new_genres).set_index('id')"
   ]
  },
  {
   "cell_type": "code",
   "execution_count": 16,
   "metadata": {
    "colab": {
     "base_uri": "https://localhost:8080/",
     "height": 865
    },
    "executionInfo": {
     "elapsed": 48,
     "status": "ok",
     "timestamp": 1670549957770,
     "user": {
      "displayName": "Davi Felix de Lima",
      "userId": "03574789560232552792"
     },
     "user_tz": 180
    },
    "id": "13KF1GVXXvxE",
    "outputId": "fc78ed4e-9bb5-4e56-c0a9-3d0c96cc3b97"
   },
   "outputs": [
    {
     "data": {
      "text/html": [
       "<div>\n",
       "<style scoped>\n",
       "    .dataframe tbody tr th:only-of-type {\n",
       "        vertical-align: middle;\n",
       "    }\n",
       "\n",
       "    .dataframe tbody tr th {\n",
       "        vertical-align: top;\n",
       "    }\n",
       "\n",
       "    .dataframe thead th {\n",
       "        text-align: right;\n",
       "    }\n",
       "</style>\n",
       "<table border=\"1\" class=\"dataframe\">\n",
       "  <thead>\n",
       "    <tr style=\"text-align: right;\">\n",
       "      <th></th>\n",
       "      <th>name</th>\n",
       "    </tr>\n",
       "    <tr>\n",
       "      <th>id</th>\n",
       "      <th></th>\n",
       "    </tr>\n",
       "  </thead>\n",
       "  <tbody>\n",
       "    <tr>\n",
       "      <th>875186253494820635</th>\n",
       "      <td>Aventura</td>\n",
       "    </tr>\n",
       "    <tr>\n",
       "      <th>4605734590823903241</th>\n",
       "      <td>Música</td>\n",
       "    </tr>\n",
       "    <tr>\n",
       "      <th>379447581407342637</th>\n",
       "      <td>Família</td>\n",
       "    </tr>\n",
       "    <tr>\n",
       "      <th>3676917530199795176</th>\n",
       "      <td>Guerra</td>\n",
       "    </tr>\n",
       "    <tr>\n",
       "      <th>7478426263258974621</th>\n",
       "      <td>Animação</td>\n",
       "    </tr>\n",
       "    <tr>\n",
       "      <th>3776198685149603334</th>\n",
       "      <td>News</td>\n",
       "    </tr>\n",
       "    <tr>\n",
       "      <th>4834731283544586559</th>\n",
       "      <td>Talk</td>\n",
       "    </tr>\n",
       "    <tr>\n",
       "      <th>1461893468257324033</th>\n",
       "      <td>Reality</td>\n",
       "    </tr>\n",
       "    <tr>\n",
       "      <th>7491433743285069447</th>\n",
       "      <td>História</td>\n",
       "    </tr>\n",
       "    <tr>\n",
       "      <th>5639084243187678720</th>\n",
       "      <td>Ação</td>\n",
       "    </tr>\n",
       "    <tr>\n",
       "      <th>1377054809643544732</th>\n",
       "      <td>Mistério</td>\n",
       "    </tr>\n",
       "    <tr>\n",
       "      <th>7665162847445911574</th>\n",
       "      <td>Infantil</td>\n",
       "    </tr>\n",
       "    <tr>\n",
       "      <th>8142116120050414802</th>\n",
       "      <td>Fantasia</td>\n",
       "    </tr>\n",
       "    <tr>\n",
       "      <th>3068753947793867032</th>\n",
       "      <td>Romance</td>\n",
       "    </tr>\n",
       "    <tr>\n",
       "      <th>5945552773318035081</th>\n",
       "      <td>Faroeste</td>\n",
       "    </tr>\n",
       "    <tr>\n",
       "      <th>4294174249123708538</th>\n",
       "      <td>Terror</td>\n",
       "    </tr>\n",
       "    <tr>\n",
       "      <th>6348540761783611780</th>\n",
       "      <td>Cinema TV</td>\n",
       "    </tr>\n",
       "    <tr>\n",
       "      <th>1822254308917098800</th>\n",
       "      <td>Drama</td>\n",
       "    </tr>\n",
       "    <tr>\n",
       "      <th>2165154107082264663</th>\n",
       "      <td>Documentário</td>\n",
       "    </tr>\n",
       "    <tr>\n",
       "      <th>4485580024603142265</th>\n",
       "      <td>Ficção científica</td>\n",
       "    </tr>\n",
       "    <tr>\n",
       "      <th>7563009663390721344</th>\n",
       "      <td>Crime</td>\n",
       "    </tr>\n",
       "    <tr>\n",
       "      <th>525176548325661448</th>\n",
       "      <td>Thriller</td>\n",
       "    </tr>\n",
       "    <tr>\n",
       "      <th>7893774678703462472</th>\n",
       "      <td>Novela</td>\n",
       "    </tr>\n",
       "    <tr>\n",
       "      <th>5653745434338071475</th>\n",
       "      <td>Comédia</td>\n",
       "    </tr>\n",
       "    <tr>\n",
       "      <th>6725536755337706318</th>\n",
       "      <td>Política</td>\n",
       "    </tr>\n",
       "  </tbody>\n",
       "</table>\n",
       "</div>"
      ],
      "text/plain": [
       "                                  name\n",
       "id                                    \n",
       "875186253494820635            Aventura\n",
       "4605734590823903241             Música\n",
       "379447581407342637             Família\n",
       "3676917530199795176             Guerra\n",
       "7478426263258974621           Animação\n",
       "3776198685149603334               News\n",
       "4834731283544586559               Talk\n",
       "1461893468257324033            Reality\n",
       "7491433743285069447           História\n",
       "5639084243187678720               Ação\n",
       "1377054809643544732           Mistério\n",
       "7665162847445911574           Infantil\n",
       "8142116120050414802           Fantasia\n",
       "3068753947793867032            Romance\n",
       "5945552773318035081           Faroeste\n",
       "4294174249123708538             Terror\n",
       "6348540761783611780          Cinema TV\n",
       "1822254308917098800              Drama\n",
       "2165154107082264663       Documentário\n",
       "4485580024603142265  Ficção científica\n",
       "7563009663390721344              Crime\n",
       "525176548325661448            Thriller\n",
       "7893774678703462472             Novela\n",
       "5653745434338071475            Comédia\n",
       "6725536755337706318           Política"
      ]
     },
     "execution_count": 16,
     "metadata": {},
     "output_type": "execute_result"
    }
   ],
   "source": [
    "new_genres_df"
   ]
  },
  {
   "cell_type": "markdown",
   "metadata": {
    "id": "25ngACLLbbSZ"
   },
   "source": [
    "## Análise das features"
   ]
  },
  {
   "cell_type": "markdown",
   "metadata": {
    "id": "OS-OvgBIhDSI"
   },
   "source": [
    "Primeira questão: quais features dos filmes iremos manter\n",
    "  - id\n",
    "  - poster\n",
    "  - id\n",
    "  - title\n",
    "  - original_title\n",
    "  - overview\n",
    "  - poster_path: deixar a URL inteira\n",
    "  - vote_average\n",
    "  - vote_count\n",
    "  - popularity\n",
    "  - release_date\n",
    "  - media_type\n",
    "  - genre: transformar ids em nomes"
   ]
  },
  {
   "cell_type": "markdown",
   "metadata": {
    "id": "Pa391Ygrur-T"
   },
   "source": [
    "# Dataset de filmes"
   ]
  },
  {
   "cell_type": "markdown",
   "metadata": {
    "id": "6yvNyazfbCzr"
   },
   "source": [
    "Função que transforma IDS de gêneros nas respostas da API nos nomes adotados dutante o processo de tratamento de dados"
   ]
  },
  {
   "cell_type": "code",
   "execution_count": 17,
   "metadata": {
    "executionInfo": {
     "elapsed": 50,
     "status": "ok",
     "timestamp": 1670549957774,
     "user": {
      "displayName": "Davi Felix de Lima",
      "userId": "03574789560232552792"
     },
     "user_tz": 180
    },
    "id": "0Mnmy__snn8a"
   },
   "outputs": [],
   "source": [
    "def map_genres(movie, genres):\n",
    "  # Mapear os gêneros\n",
    "  movie['genres'] = []\n",
    "  for genre_id in movie['genre_ids']:\n",
    "    if type(genres[genre_id]) == list:\n",
    "      for g in genres[genre_id]:\n",
    "        movie['genres'].append(g)\n",
    "    else:\n",
    "      movie['genres'].append(genres[genre_id])\n",
    "  movie.pop('genre_ids')\n",
    "  return movie"
   ]
  },
  {
   "cell_type": "code",
   "execution_count": 18,
   "metadata": {
    "executionInfo": {
     "elapsed": 50,
     "status": "ok",
     "timestamp": 1670549957775,
     "user": {
      "displayName": "Davi Felix de Lima",
      "userId": "03574789560232552792"
     },
     "user_tz": 180
    },
    "id": "AwJh_FgrmUgp"
   },
   "outputs": [],
   "source": [
    "def serialize(movies, genres_map):\n",
    "  return list(map(lambda movie: map_genres(movie, genres_map), movies))"
   ]
  },
  {
   "cell_type": "code",
   "execution_count": 19,
   "metadata": {
    "colab": {
     "base_uri": "https://localhost:8080/"
    },
    "executionInfo": {
     "elapsed": 4318,
     "status": "ok",
     "timestamp": 1670553852817,
     "user": {
      "displayName": "Davi Felix de Lima",
      "userId": "03574789560232552792"
     },
     "user_tz": 180
    },
    "id": "4owFn-ucuxS4",
    "outputId": "f94164a5-dea0-46df-a393-7388f3d122ee"
   },
   "outputs": [],
   "source": [
    "movie_details = [\n",
    "    'imdb_id', \n",
    "    'status', \n",
    "    'revenue', \n",
    "    'budget',\n",
    "    {'fieldName': 'belongs_to_collection', 'finalName': 'collection', 'func': lambda x: x['name'] if x else None},\n",
    "    {'fieldName': 'production_companies', 'finalName': 'productions', 'func': lambda prod: [x['name'] for x in prod]}\n",
    "]\n",
    "trending_movies = get_trending('movie', 'week', movie_details, 3)\n",
    "trending_movies_formatted = serialize(trending_movies, genres_map)"
   ]
  },
  {
   "cell_type": "code",
   "execution_count": 20,
   "metadata": {
    "executionInfo": {
     "elapsed": 6,
     "status": "ok",
     "timestamp": 1670553860176,
     "user": {
      "displayName": "Davi Felix de Lima",
      "userId": "03574789560232552792"
     },
     "user_tz": 180
    },
    "id": "dkpuGgNzTLo3"
   },
   "outputs": [],
   "source": [
    "movies = make_media_dataframe(trending_movies_formatted)"
   ]
  },
  {
   "cell_type": "code",
   "execution_count": 21,
   "metadata": {
    "colab": {
     "base_uri": "https://localhost:8080/",
     "height": 683
    },
    "executionInfo": {
     "elapsed": 533,
     "status": "ok",
     "timestamp": 1670553861759,
     "user": {
      "displayName": "Davi Felix de Lima",
      "userId": "03574789560232552792"
     },
     "user_tz": 180
    },
    "id": "j-oLWtWd5m4T",
    "outputId": "24ae6d1e-cfd5-4378-d0c7-3c20a49761ec"
   },
   "outputs": [
    {
     "data": {
      "text/html": [
       "<div>\n",
       "<style scoped>\n",
       "    .dataframe tbody tr th:only-of-type {\n",
       "        vertical-align: middle;\n",
       "    }\n",
       "\n",
       "    .dataframe tbody tr th {\n",
       "        vertical-align: top;\n",
       "    }\n",
       "\n",
       "    .dataframe thead th {\n",
       "        text-align: right;\n",
       "    }\n",
       "</style>\n",
       "<table border=\"1\" class=\"dataframe\">\n",
       "  <thead>\n",
       "    <tr style=\"text-align: right;\">\n",
       "      <th></th>\n",
       "      <th>title</th>\n",
       "      <th>original_title</th>\n",
       "      <th>overview</th>\n",
       "      <th>poster_path</th>\n",
       "      <th>media_type</th>\n",
       "      <th>popularity</th>\n",
       "      <th>release_date</th>\n",
       "      <th>vote_average</th>\n",
       "      <th>vote_count</th>\n",
       "      <th>imdb_id</th>\n",
       "      <th>status</th>\n",
       "      <th>revenue</th>\n",
       "      <th>budget</th>\n",
       "      <th>collection</th>\n",
       "      <th>productions</th>\n",
       "      <th>genres</th>\n",
       "      <th>release_year</th>\n",
       "    </tr>\n",
       "    <tr>\n",
       "      <th>id</th>\n",
       "      <th></th>\n",
       "      <th></th>\n",
       "      <th></th>\n",
       "      <th></th>\n",
       "      <th></th>\n",
       "      <th></th>\n",
       "      <th></th>\n",
       "      <th></th>\n",
       "      <th></th>\n",
       "      <th></th>\n",
       "      <th></th>\n",
       "      <th></th>\n",
       "      <th></th>\n",
       "      <th></th>\n",
       "      <th></th>\n",
       "      <th></th>\n",
       "      <th></th>\n",
       "    </tr>\n",
       "  </thead>\n",
       "  <tbody>\n",
       "    <tr>\n",
       "      <th>436270</th>\n",
       "      <td>Adão Negro</td>\n",
       "      <td>Black Adam</td>\n",
       "      <td>Quase 5.000 anos depois de ter sido concedido ...</td>\n",
       "      <td>https://image.tmdb.org/t/p/w220_and_h330_face/...</td>\n",
       "      <td>movie</td>\n",
       "      <td>5089.869</td>\n",
       "      <td>2022-10-19</td>\n",
       "      <td>7.310</td>\n",
       "      <td>2653</td>\n",
       "      <td>tt6443346</td>\n",
       "      <td>Released</td>\n",
       "      <td>384571691</td>\n",
       "      <td>200000000</td>\n",
       "      <td>None</td>\n",
       "      <td>[New Line Cinema, Flynn Picture Company, Seven...</td>\n",
       "      <td>[Ação, Fantasia, Ficção científica]</td>\n",
       "      <td>2022</td>\n",
       "    </tr>\n",
       "    <tr>\n",
       "      <th>736526</th>\n",
       "      <td>O Troll da Montanha</td>\n",
       "      <td>Troll</td>\n",
       "      <td>Após ficar aprisionada por mil anos nas profun...</td>\n",
       "      <td>https://image.tmdb.org/t/p/w220_and_h330_face/...</td>\n",
       "      <td>movie</td>\n",
       "      <td>4232.311</td>\n",
       "      <td>2022-12-01</td>\n",
       "      <td>6.816</td>\n",
       "      <td>483</td>\n",
       "      <td>tt11116912</td>\n",
       "      <td>Released</td>\n",
       "      <td>0</td>\n",
       "      <td>0</td>\n",
       "      <td>None</td>\n",
       "      <td>[Motion Blur]</td>\n",
       "      <td>[Fantasia, Ação, Aventura]</td>\n",
       "      <td>2022</td>\n",
       "    </tr>\n",
       "    <tr>\n",
       "      <th>774752</th>\n",
       "      <td>Guardiões da Galáxia: Especial de Festas</td>\n",
       "      <td>The Guardians of the Galaxy Holiday Special</td>\n",
       "      <td>Com a missão de tornar o Natal inesquecível pa...</td>\n",
       "      <td>https://image.tmdb.org/t/p/w220_and_h330_face/...</td>\n",
       "      <td>movie</td>\n",
       "      <td>955.212</td>\n",
       "      <td>2022-11-25</td>\n",
       "      <td>7.479</td>\n",
       "      <td>694</td>\n",
       "      <td>tt13623136</td>\n",
       "      <td>Released</td>\n",
       "      <td>0</td>\n",
       "      <td>0</td>\n",
       "      <td>None</td>\n",
       "      <td>[Marvel Studios, Troll Court Entertainment, Ke...</td>\n",
       "      <td>[Comédia, Ficção científica, Aventura]</td>\n",
       "      <td>2022</td>\n",
       "    </tr>\n",
       "    <tr>\n",
       "      <th>715931</th>\n",
       "      <td>Emancipação: Uma História de Liberdade</td>\n",
       "      <td>Emancipation</td>\n",
       "      <td>Peter, um escravo em fuga é forçado a despista...</td>\n",
       "      <td>https://image.tmdb.org/t/p/w220_and_h330_face/...</td>\n",
       "      <td>movie</td>\n",
       "      <td>82.506</td>\n",
       "      <td>2022-12-02</td>\n",
       "      <td>7.598</td>\n",
       "      <td>66</td>\n",
       "      <td>tt12530246</td>\n",
       "      <td>Released</td>\n",
       "      <td>0</td>\n",
       "      <td>0</td>\n",
       "      <td>None</td>\n",
       "      <td>[Escape Artists, Fuqua Films, Apple, Westbrook...</td>\n",
       "      <td>[História, Drama, Mistério, Thriller, Ação]</td>\n",
       "      <td>2022</td>\n",
       "    </tr>\n",
       "    <tr>\n",
       "      <th>555604</th>\n",
       "      <td>Pinóquio por Guillermo Del Toro</td>\n",
       "      <td>Guillermo del Toro's Pinocchio</td>\n",
       "      <td>Uma versão mais sombria do clássico conto de f...</td>\n",
       "      <td>https://image.tmdb.org/t/p/w220_and_h330_face/...</td>\n",
       "      <td>movie</td>\n",
       "      <td>222.841</td>\n",
       "      <td>2022-11-09</td>\n",
       "      <td>8.400</td>\n",
       "      <td>177</td>\n",
       "      <td>tt1488589</td>\n",
       "      <td>Released</td>\n",
       "      <td>0</td>\n",
       "      <td>35000000</td>\n",
       "      <td>None</td>\n",
       "      <td>[The Jim Henson Company, ShadowMachine, Double...</td>\n",
       "      <td>[Animação, Fantasia, Drama]</td>\n",
       "      <td>2022</td>\n",
       "    </tr>\n",
       "  </tbody>\n",
       "</table>\n",
       "</div>"
      ],
      "text/plain": [
       "                                           title  \\\n",
       "id                                                 \n",
       "436270                                Adão Negro   \n",
       "736526                       O Troll da Montanha   \n",
       "774752  Guardiões da Galáxia: Especial de Festas   \n",
       "715931    Emancipação: Uma História de Liberdade   \n",
       "555604           Pinóquio por Guillermo Del Toro   \n",
       "\n",
       "                                     original_title  \\\n",
       "id                                                    \n",
       "436270                                   Black Adam   \n",
       "736526                                        Troll   \n",
       "774752  The Guardians of the Galaxy Holiday Special   \n",
       "715931                                 Emancipation   \n",
       "555604               Guillermo del Toro's Pinocchio   \n",
       "\n",
       "                                                 overview  \\\n",
       "id                                                          \n",
       "436270  Quase 5.000 anos depois de ter sido concedido ...   \n",
       "736526  Após ficar aprisionada por mil anos nas profun...   \n",
       "774752  Com a missão de tornar o Natal inesquecível pa...   \n",
       "715931  Peter, um escravo em fuga é forçado a despista...   \n",
       "555604  Uma versão mais sombria do clássico conto de f...   \n",
       "\n",
       "                                              poster_path media_type  \\\n",
       "id                                                                     \n",
       "436270  https://image.tmdb.org/t/p/w220_and_h330_face/...      movie   \n",
       "736526  https://image.tmdb.org/t/p/w220_and_h330_face/...      movie   \n",
       "774752  https://image.tmdb.org/t/p/w220_and_h330_face/...      movie   \n",
       "715931  https://image.tmdb.org/t/p/w220_and_h330_face/...      movie   \n",
       "555604  https://image.tmdb.org/t/p/w220_and_h330_face/...      movie   \n",
       "\n",
       "        popularity release_date  vote_average  vote_count     imdb_id  \\\n",
       "id                                                                      \n",
       "436270    5089.869   2022-10-19         7.310        2653   tt6443346   \n",
       "736526    4232.311   2022-12-01         6.816         483  tt11116912   \n",
       "774752     955.212   2022-11-25         7.479         694  tt13623136   \n",
       "715931      82.506   2022-12-02         7.598          66  tt12530246   \n",
       "555604     222.841   2022-11-09         8.400         177   tt1488589   \n",
       "\n",
       "          status    revenue     budget collection  \\\n",
       "id                                                  \n",
       "436270  Released  384571691  200000000       None   \n",
       "736526  Released          0          0       None   \n",
       "774752  Released          0          0       None   \n",
       "715931  Released          0          0       None   \n",
       "555604  Released          0   35000000       None   \n",
       "\n",
       "                                              productions  \\\n",
       "id                                                          \n",
       "436270  [New Line Cinema, Flynn Picture Company, Seven...   \n",
       "736526                                      [Motion Blur]   \n",
       "774752  [Marvel Studios, Troll Court Entertainment, Ke...   \n",
       "715931  [Escape Artists, Fuqua Films, Apple, Westbrook...   \n",
       "555604  [The Jim Henson Company, ShadowMachine, Double...   \n",
       "\n",
       "                                             genres  release_year  \n",
       "id                                                                 \n",
       "436270          [Ação, Fantasia, Ficção científica]          2022  \n",
       "736526                   [Fantasia, Ação, Aventura]          2022  \n",
       "774752       [Comédia, Ficção científica, Aventura]          2022  \n",
       "715931  [História, Drama, Mistério, Thriller, Ação]          2022  \n",
       "555604                  [Animação, Fantasia, Drama]          2022  "
      ]
     },
     "execution_count": 21,
     "metadata": {},
     "output_type": "execute_result"
    }
   ],
   "source": [
    "movies.head()"
   ]
  },
  {
   "cell_type": "code",
   "execution_count": 22,
   "metadata": {
    "colab": {
     "base_uri": "https://localhost:8080/",
     "height": 683
    },
    "executionInfo": {
     "elapsed": 958,
     "status": "ok",
     "timestamp": 1670549964231,
     "user": {
      "displayName": "Davi Felix de Lima",
      "userId": "03574789560232552792"
     },
     "user_tz": 180
    },
    "id": "_yoaR4j3prg_",
    "outputId": "7d229d89-7778-4a4a-e6dc-a1ccf8f2f62a"
   },
   "outputs": [
    {
     "data": {
      "text/html": [
       "<div>\n",
       "<style scoped>\n",
       "    .dataframe tbody tr th:only-of-type {\n",
       "        vertical-align: middle;\n",
       "    }\n",
       "\n",
       "    .dataframe tbody tr th {\n",
       "        vertical-align: top;\n",
       "    }\n",
       "\n",
       "    .dataframe thead th {\n",
       "        text-align: right;\n",
       "    }\n",
       "</style>\n",
       "<table border=\"1\" class=\"dataframe\">\n",
       "  <thead>\n",
       "    <tr style=\"text-align: right;\">\n",
       "      <th></th>\n",
       "      <th>title</th>\n",
       "      <th>original_title</th>\n",
       "      <th>overview</th>\n",
       "      <th>poster_path</th>\n",
       "      <th>media_type</th>\n",
       "      <th>popularity</th>\n",
       "      <th>release_date</th>\n",
       "      <th>vote_average</th>\n",
       "      <th>vote_count</th>\n",
       "      <th>imdb_id</th>\n",
       "      <th>status</th>\n",
       "      <th>revenue</th>\n",
       "      <th>budget</th>\n",
       "      <th>collection</th>\n",
       "      <th>productions</th>\n",
       "      <th>genres</th>\n",
       "      <th>release_year</th>\n",
       "    </tr>\n",
       "    <tr>\n",
       "      <th>id</th>\n",
       "      <th></th>\n",
       "      <th></th>\n",
       "      <th></th>\n",
       "      <th></th>\n",
       "      <th></th>\n",
       "      <th></th>\n",
       "      <th></th>\n",
       "      <th></th>\n",
       "      <th></th>\n",
       "      <th></th>\n",
       "      <th></th>\n",
       "      <th></th>\n",
       "      <th></th>\n",
       "      <th></th>\n",
       "      <th></th>\n",
       "      <th></th>\n",
       "      <th></th>\n",
       "    </tr>\n",
       "  </thead>\n",
       "  <tbody>\n",
       "    <tr>\n",
       "      <th>436270</th>\n",
       "      <td>Adão Negro</td>\n",
       "      <td>Black Adam</td>\n",
       "      <td>Quase 5.000 anos depois de ter sido concedido ...</td>\n",
       "      <td>https://image.tmdb.org/t/p/w220_and_h330_face/...</td>\n",
       "      <td>movie</td>\n",
       "      <td>5089.869</td>\n",
       "      <td>2022-10-19</td>\n",
       "      <td>7.310</td>\n",
       "      <td>2653</td>\n",
       "      <td>tt6443346</td>\n",
       "      <td>Released</td>\n",
       "      <td>384571691</td>\n",
       "      <td>200000000</td>\n",
       "      <td>None</td>\n",
       "      <td>[New Line Cinema, Flynn Picture Company, Seven...</td>\n",
       "      <td>[Ação, Fantasia, Ficção científica]</td>\n",
       "      <td>2022</td>\n",
       "    </tr>\n",
       "    <tr>\n",
       "      <th>736526</th>\n",
       "      <td>O Troll da Montanha</td>\n",
       "      <td>Troll</td>\n",
       "      <td>Após ficar aprisionada por mil anos nas profun...</td>\n",
       "      <td>https://image.tmdb.org/t/p/w220_and_h330_face/...</td>\n",
       "      <td>movie</td>\n",
       "      <td>4232.311</td>\n",
       "      <td>2022-12-01</td>\n",
       "      <td>6.816</td>\n",
       "      <td>483</td>\n",
       "      <td>tt11116912</td>\n",
       "      <td>Released</td>\n",
       "      <td>0</td>\n",
       "      <td>0</td>\n",
       "      <td>None</td>\n",
       "      <td>[Motion Blur]</td>\n",
       "      <td>[Fantasia, Ação, Aventura]</td>\n",
       "      <td>2022</td>\n",
       "    </tr>\n",
       "    <tr>\n",
       "      <th>774752</th>\n",
       "      <td>Guardiões da Galáxia: Especial de Festas</td>\n",
       "      <td>The Guardians of the Galaxy Holiday Special</td>\n",
       "      <td>Com a missão de tornar o Natal inesquecível pa...</td>\n",
       "      <td>https://image.tmdb.org/t/p/w220_and_h330_face/...</td>\n",
       "      <td>movie</td>\n",
       "      <td>955.212</td>\n",
       "      <td>2022-11-25</td>\n",
       "      <td>7.479</td>\n",
       "      <td>694</td>\n",
       "      <td>tt13623136</td>\n",
       "      <td>Released</td>\n",
       "      <td>0</td>\n",
       "      <td>0</td>\n",
       "      <td>None</td>\n",
       "      <td>[Marvel Studios, Troll Court Entertainment, Ke...</td>\n",
       "      <td>[Comédia, Ficção científica, Aventura]</td>\n",
       "      <td>2022</td>\n",
       "    </tr>\n",
       "    <tr>\n",
       "      <th>715931</th>\n",
       "      <td>Emancipação: Uma História de Liberdade</td>\n",
       "      <td>Emancipation</td>\n",
       "      <td>Peter, um escravo em fuga é forçado a despista...</td>\n",
       "      <td>https://image.tmdb.org/t/p/w220_and_h330_face/...</td>\n",
       "      <td>movie</td>\n",
       "      <td>82.506</td>\n",
       "      <td>2022-12-02</td>\n",
       "      <td>7.598</td>\n",
       "      <td>66</td>\n",
       "      <td>tt12530246</td>\n",
       "      <td>Released</td>\n",
       "      <td>0</td>\n",
       "      <td>0</td>\n",
       "      <td>None</td>\n",
       "      <td>[Escape Artists, Fuqua Films, Apple, Westbrook...</td>\n",
       "      <td>[História, Drama, Mistério, Thriller, Ação]</td>\n",
       "      <td>2022</td>\n",
       "    </tr>\n",
       "    <tr>\n",
       "      <th>555604</th>\n",
       "      <td>Pinóquio por Guillermo Del Toro</td>\n",
       "      <td>Guillermo del Toro's Pinocchio</td>\n",
       "      <td>Uma versão mais sombria do clássico conto de f...</td>\n",
       "      <td>https://image.tmdb.org/t/p/w220_and_h330_face/...</td>\n",
       "      <td>movie</td>\n",
       "      <td>222.841</td>\n",
       "      <td>2022-11-09</td>\n",
       "      <td>8.400</td>\n",
       "      <td>177</td>\n",
       "      <td>tt1488589</td>\n",
       "      <td>Released</td>\n",
       "      <td>0</td>\n",
       "      <td>35000000</td>\n",
       "      <td>None</td>\n",
       "      <td>[The Jim Henson Company, ShadowMachine, Double...</td>\n",
       "      <td>[Animação, Fantasia, Drama]</td>\n",
       "      <td>2022</td>\n",
       "    </tr>\n",
       "  </tbody>\n",
       "</table>\n",
       "</div>"
      ],
      "text/plain": [
       "                                           title  \\\n",
       "id                                                 \n",
       "436270                                Adão Negro   \n",
       "736526                       O Troll da Montanha   \n",
       "774752  Guardiões da Galáxia: Especial de Festas   \n",
       "715931    Emancipação: Uma História de Liberdade   \n",
       "555604           Pinóquio por Guillermo Del Toro   \n",
       "\n",
       "                                     original_title  \\\n",
       "id                                                    \n",
       "436270                                   Black Adam   \n",
       "736526                                        Troll   \n",
       "774752  The Guardians of the Galaxy Holiday Special   \n",
       "715931                                 Emancipation   \n",
       "555604               Guillermo del Toro's Pinocchio   \n",
       "\n",
       "                                                 overview  \\\n",
       "id                                                          \n",
       "436270  Quase 5.000 anos depois de ter sido concedido ...   \n",
       "736526  Após ficar aprisionada por mil anos nas profun...   \n",
       "774752  Com a missão de tornar o Natal inesquecível pa...   \n",
       "715931  Peter, um escravo em fuga é forçado a despista...   \n",
       "555604  Uma versão mais sombria do clássico conto de f...   \n",
       "\n",
       "                                              poster_path media_type  \\\n",
       "id                                                                     \n",
       "436270  https://image.tmdb.org/t/p/w220_and_h330_face/...      movie   \n",
       "736526  https://image.tmdb.org/t/p/w220_and_h330_face/...      movie   \n",
       "774752  https://image.tmdb.org/t/p/w220_and_h330_face/...      movie   \n",
       "715931  https://image.tmdb.org/t/p/w220_and_h330_face/...      movie   \n",
       "555604  https://image.tmdb.org/t/p/w220_and_h330_face/...      movie   \n",
       "\n",
       "        popularity release_date  vote_average  vote_count     imdb_id  \\\n",
       "id                                                                      \n",
       "436270    5089.869   2022-10-19         7.310        2653   tt6443346   \n",
       "736526    4232.311   2022-12-01         6.816         483  tt11116912   \n",
       "774752     955.212   2022-11-25         7.479         694  tt13623136   \n",
       "715931      82.506   2022-12-02         7.598          66  tt12530246   \n",
       "555604     222.841   2022-11-09         8.400         177   tt1488589   \n",
       "\n",
       "          status    revenue     budget collection  \\\n",
       "id                                                  \n",
       "436270  Released  384571691  200000000       None   \n",
       "736526  Released          0          0       None   \n",
       "774752  Released          0          0       None   \n",
       "715931  Released          0          0       None   \n",
       "555604  Released          0   35000000       None   \n",
       "\n",
       "                                              productions  \\\n",
       "id                                                          \n",
       "436270  [New Line Cinema, Flynn Picture Company, Seven...   \n",
       "736526                                      [Motion Blur]   \n",
       "774752  [Marvel Studios, Troll Court Entertainment, Ke...   \n",
       "715931  [Escape Artists, Fuqua Films, Apple, Westbrook...   \n",
       "555604  [The Jim Henson Company, ShadowMachine, Double...   \n",
       "\n",
       "                                             genres  release_year  \n",
       "id                                                                 \n",
       "436270          [Ação, Fantasia, Ficção científica]          2022  \n",
       "736526                   [Fantasia, Ação, Aventura]          2022  \n",
       "774752       [Comédia, Ficção científica, Aventura]          2022  \n",
       "715931  [História, Drama, Mistério, Thriller, Ação]          2022  \n",
       "555604                  [Animação, Fantasia, Drama]          2022  "
      ]
     },
     "execution_count": 22,
     "metadata": {},
     "output_type": "execute_result"
    }
   ],
   "source": [
    "movies.head()"
   ]
  },
  {
   "cell_type": "markdown",
   "metadata": {
    "id": "0SAZ42-lwKE2"
   },
   "source": [
    "# Dataset de séries"
   ]
  },
  {
   "cell_type": "code",
   "execution_count": 23,
   "metadata": {
    "executionInfo": {
     "elapsed": 4512,
     "status": "ok",
     "timestamp": 1670549968729,
     "user": {
      "displayName": "Davi Felix de Lima",
      "userId": "03574789560232552792"
     },
     "user_tz": 180
    },
    "id": "QCXSO-4BngCk"
   },
   "outputs": [],
   "source": [
    "detail_fields = [\n",
    "    'in_production',\n",
    "    'episode_run_time',\n",
    "    'number_of_seasons',\n",
    "    'number_of_seasons',\n",
    "    'number_of_episodes',\n",
    "    {'fieldName' : 'networks', 'finalName': 'networks', 'func': (lambda networks: [n['name'] for n in networks])}\n",
    "]\n",
    "trending_tv = get_trending('tv', 'week', detail_fields, 2)\n",
    "trending_tv_formatted = serialize(trending_tv, genres_map)"
   ]
  },
  {
   "cell_type": "code",
   "execution_count": 24,
   "metadata": {
    "executionInfo": {
     "elapsed": 45,
     "status": "ok",
     "timestamp": 1670549968731,
     "user": {
      "displayName": "Davi Felix de Lima",
      "userId": "03574789560232552792"
     },
     "user_tz": 180
    },
    "id": "O9ReaE-dTlrq"
   },
   "outputs": [],
   "source": [
    "tv_shows = make_media_dataframe(trending_tv_formatted)"
   ]
  },
  {
   "cell_type": "code",
   "execution_count": 25,
   "metadata": {
    "colab": {
     "base_uri": "https://localhost:8080/",
     "height": 0
    },
    "executionInfo": {
     "elapsed": 46,
     "status": "ok",
     "timestamp": 1670549968734,
     "user": {
      "displayName": "Davi Felix de Lima",
      "userId": "03574789560232552792"
     },
     "user_tz": 180
    },
    "id": "fEkoOe3AplNl",
    "outputId": "2c2ae789-afa0-486a-a10e-baee9c50ace6"
   },
   "outputs": [
    {
     "data": {
      "text/html": [
       "<div>\n",
       "<style scoped>\n",
       "    .dataframe tbody tr th:only-of-type {\n",
       "        vertical-align: middle;\n",
       "    }\n",
       "\n",
       "    .dataframe tbody tr th {\n",
       "        vertical-align: top;\n",
       "    }\n",
       "\n",
       "    .dataframe thead th {\n",
       "        text-align: right;\n",
       "    }\n",
       "</style>\n",
       "<table border=\"1\" class=\"dataframe\">\n",
       "  <thead>\n",
       "    <tr style=\"text-align: right;\">\n",
       "      <th></th>\n",
       "      <th>title</th>\n",
       "      <th>original_title</th>\n",
       "      <th>overview</th>\n",
       "      <th>poster_path</th>\n",
       "      <th>media_type</th>\n",
       "      <th>popularity</th>\n",
       "      <th>release_date</th>\n",
       "      <th>vote_average</th>\n",
       "      <th>vote_count</th>\n",
       "      <th>origin_country</th>\n",
       "      <th>in_production</th>\n",
       "      <th>episode_run_time</th>\n",
       "      <th>number_of_seasons</th>\n",
       "      <th>number_of_episodes</th>\n",
       "      <th>networks</th>\n",
       "      <th>genres</th>\n",
       "      <th>release_year</th>\n",
       "    </tr>\n",
       "    <tr>\n",
       "      <th>id</th>\n",
       "      <th></th>\n",
       "      <th></th>\n",
       "      <th></th>\n",
       "      <th></th>\n",
       "      <th></th>\n",
       "      <th></th>\n",
       "      <th></th>\n",
       "      <th></th>\n",
       "      <th></th>\n",
       "      <th></th>\n",
       "      <th></th>\n",
       "      <th></th>\n",
       "      <th></th>\n",
       "      <th></th>\n",
       "      <th></th>\n",
       "      <th></th>\n",
       "      <th></th>\n",
       "    </tr>\n",
       "  </thead>\n",
       "  <tbody>\n",
       "    <tr>\n",
       "      <th>119051</th>\n",
       "      <td>Wandinha</td>\n",
       "      <td>Wednesday</td>\n",
       "      <td>Inteligente, sarcástica e apática, Wandinha Ad...</td>\n",
       "      <td>https://image.tmdb.org/t/p/w220_and_h330_face/...</td>\n",
       "      <td>tv</td>\n",
       "      <td>7390.878</td>\n",
       "      <td>2022-11-23</td>\n",
       "      <td>8.779</td>\n",
       "      <td>2533</td>\n",
       "      <td>[US]</td>\n",
       "      <td>True</td>\n",
       "      <td>[]</td>\n",
       "      <td>1</td>\n",
       "      <td>8</td>\n",
       "      <td>[Netflix]</td>\n",
       "      <td>[Ficção científica, Fantasia, Mistério, Comédia]</td>\n",
       "      <td>2022</td>\n",
       "    </tr>\n",
       "    <tr>\n",
       "      <th>111837</th>\n",
       "      <td>Willow</td>\n",
       "      <td>Willow</td>\n",
       "      <td>Anos após os eventos do filme “Willow” origina...</td>\n",
       "      <td>https://image.tmdb.org/t/p/w220_and_h330_face/...</td>\n",
       "      <td>tv</td>\n",
       "      <td>1699.615</td>\n",
       "      <td>2022-11-30</td>\n",
       "      <td>5.796</td>\n",
       "      <td>49</td>\n",
       "      <td>[US]</td>\n",
       "      <td>True</td>\n",
       "      <td>[50]</td>\n",
       "      <td>1</td>\n",
       "      <td>8</td>\n",
       "      <td>[Disney+]</td>\n",
       "      <td>[Ficção científica, Fantasia, Ação, Aventura, ...</td>\n",
       "      <td>2022</td>\n",
       "    </tr>\n",
       "    <tr>\n",
       "      <th>90669</th>\n",
       "      <td>1899</td>\n",
       "      <td>1899</td>\n",
       "      <td>Em um navio a vapor migrante rumo ao oeste par...</td>\n",
       "      <td>https://image.tmdb.org/t/p/w220_and_h330_face/...</td>\n",
       "      <td>tv</td>\n",
       "      <td>835.311</td>\n",
       "      <td>2022-11-17</td>\n",
       "      <td>7.929</td>\n",
       "      <td>493</td>\n",
       "      <td>[DE]</td>\n",
       "      <td>True</td>\n",
       "      <td>[50]</td>\n",
       "      <td>1</td>\n",
       "      <td>8</td>\n",
       "      <td>[Netflix]</td>\n",
       "      <td>[Mistério, Drama]</td>\n",
       "      <td>2022</td>\n",
       "    </tr>\n",
       "    <tr>\n",
       "      <th>95403</th>\n",
       "      <td>Periféricos</td>\n",
       "      <td>The Peripheral</td>\n",
       "      <td>Flynne Fisher É uma garota que tenta juntar os...</td>\n",
       "      <td>https://image.tmdb.org/t/p/w220_and_h330_face/...</td>\n",
       "      <td>tv</td>\n",
       "      <td>732.854</td>\n",
       "      <td>2022-10-20</td>\n",
       "      <td>8.100</td>\n",
       "      <td>397</td>\n",
       "      <td>[US]</td>\n",
       "      <td>True</td>\n",
       "      <td>[60]</td>\n",
       "      <td>1</td>\n",
       "      <td>8</td>\n",
       "      <td>[Amazon]</td>\n",
       "      <td>[Ficção científica, Fantasia, Drama]</td>\n",
       "      <td>2022</td>\n",
       "    </tr>\n",
       "    <tr>\n",
       "      <th>83867</th>\n",
       "      <td>Star Wars: Andor</td>\n",
       "      <td>Star Wars: Andor</td>\n",
       "      <td>As aventuras do espião rebelde Cassian Andor d...</td>\n",
       "      <td>https://image.tmdb.org/t/p/w220_and_h330_face/...</td>\n",
       "      <td>tv</td>\n",
       "      <td>273.298</td>\n",
       "      <td>2022-09-21</td>\n",
       "      <td>8.114</td>\n",
       "      <td>398</td>\n",
       "      <td>[US]</td>\n",
       "      <td>True</td>\n",
       "      <td>[40]</td>\n",
       "      <td>1</td>\n",
       "      <td>12</td>\n",
       "      <td>[Disney+]</td>\n",
       "      <td>[Ficção científica, Fantasia, Ação, Aventura, ...</td>\n",
       "      <td>2022</td>\n",
       "    </tr>\n",
       "  </tbody>\n",
       "</table>\n",
       "</div>"
      ],
      "text/plain": [
       "                   title    original_title  \\\n",
       "id                                           \n",
       "119051          Wandinha         Wednesday   \n",
       "111837            Willow            Willow   \n",
       "90669               1899              1899   \n",
       "95403        Periféricos    The Peripheral   \n",
       "83867   Star Wars: Andor  Star Wars: Andor   \n",
       "\n",
       "                                                 overview  \\\n",
       "id                                                          \n",
       "119051  Inteligente, sarcástica e apática, Wandinha Ad...   \n",
       "111837  Anos após os eventos do filme “Willow” origina...   \n",
       "90669   Em um navio a vapor migrante rumo ao oeste par...   \n",
       "95403   Flynne Fisher É uma garota que tenta juntar os...   \n",
       "83867   As aventuras do espião rebelde Cassian Andor d...   \n",
       "\n",
       "                                              poster_path media_type  \\\n",
       "id                                                                     \n",
       "119051  https://image.tmdb.org/t/p/w220_and_h330_face/...         tv   \n",
       "111837  https://image.tmdb.org/t/p/w220_and_h330_face/...         tv   \n",
       "90669   https://image.tmdb.org/t/p/w220_and_h330_face/...         tv   \n",
       "95403   https://image.tmdb.org/t/p/w220_and_h330_face/...         tv   \n",
       "83867   https://image.tmdb.org/t/p/w220_and_h330_face/...         tv   \n",
       "\n",
       "        popularity release_date  vote_average  vote_count origin_country  \\\n",
       "id                                                                         \n",
       "119051    7390.878   2022-11-23         8.779        2533           [US]   \n",
       "111837    1699.615   2022-11-30         5.796          49           [US]   \n",
       "90669      835.311   2022-11-17         7.929         493           [DE]   \n",
       "95403      732.854   2022-10-20         8.100         397           [US]   \n",
       "83867      273.298   2022-09-21         8.114         398           [US]   \n",
       "\n",
       "        in_production episode_run_time  number_of_seasons  number_of_episodes  \\\n",
       "id                                                                              \n",
       "119051           True               []                  1                   8   \n",
       "111837           True             [50]                  1                   8   \n",
       "90669            True             [50]                  1                   8   \n",
       "95403            True             [60]                  1                   8   \n",
       "83867            True             [40]                  1                  12   \n",
       "\n",
       "         networks                                             genres  \\\n",
       "id                                                                     \n",
       "119051  [Netflix]   [Ficção científica, Fantasia, Mistério, Comédia]   \n",
       "111837  [Disney+]  [Ficção científica, Fantasia, Ação, Aventura, ...   \n",
       "90669   [Netflix]                                  [Mistério, Drama]   \n",
       "95403    [Amazon]               [Ficção científica, Fantasia, Drama]   \n",
       "83867   [Disney+]  [Ficção científica, Fantasia, Ação, Aventura, ...   \n",
       "\n",
       "        release_year  \n",
       "id                    \n",
       "119051          2022  \n",
       "111837          2022  \n",
       "90669           2022  \n",
       "95403           2022  \n",
       "83867           2022  "
      ]
     },
     "execution_count": 25,
     "metadata": {},
     "output_type": "execute_result"
    }
   ],
   "source": [
    "tv_shows.head()"
   ]
  },
  {
   "cell_type": "code",
   "execution_count": null,
   "metadata": {
    "executionInfo": {
     "elapsed": 41,
     "status": "ok",
     "timestamp": 1670549968735,
     "user": {
      "displayName": "Davi Felix de Lima",
      "userId": "03574789560232552792"
     },
     "user_tz": 180
    },
    "id": "qxRjxyOhsa63"
   },
   "outputs": [],
   "source": []
  },
  {
   "cell_type": "markdown",
   "metadata": {
    "id": "nOZn2FUJ0M9k"
   },
   "source": [
    "# Dataset de people"
   ]
  },
  {
   "cell_type": "code",
   "execution_count": 26,
   "metadata": {
    "executionInfo": {
     "elapsed": 42,
     "status": "ok",
     "timestamp": 1670549968737,
     "user": {
      "displayName": "Davi Felix de Lima",
      "userId": "03574789560232552792"
     },
     "user_tz": 180
    },
    "id": "FzbnPBbc2EVb"
   },
   "outputs": [],
   "source": [
    "def map_known_for(person):\n",
    "  if person['known_for']:\n",
    "    person['known_for_name'] = [movie.get('title') or movie.get('name') for movie in person['known_for']]\n",
    "    person['known_for_id'] = [movie['id'] for movie in person['known_for']]"
   ]
  },
  {
   "cell_type": "code",
   "execution_count": 27,
   "metadata": {
    "executionInfo": {
     "elapsed": 50,
     "status": "ok",
     "timestamp": 1670549968746,
     "user": {
      "displayName": "Davi Felix de Lima",
      "userId": "03574789560232552792"
     },
     "user_tz": 180
    },
    "id": "h4r-Ta1QUn54"
   },
   "outputs": [],
   "source": [
    "def serialize_people(people):\n",
    "  return list(map(lambda person: map_known_for(person), people))"
   ]
  },
  {
   "cell_type": "code",
   "execution_count": 28,
   "metadata": {
    "executionInfo": {
     "elapsed": 6,
     "status": "ok",
     "timestamp": 1670549969669,
     "user": {
      "displayName": "Davi Felix de Lima",
      "userId": "03574789560232552792"
     },
     "user_tz": 180
    },
    "id": "-Hk4V_fPV_2L"
   },
   "outputs": [],
   "source": [
    "def make_trending_people_df(trending_people):\n",
    "  people_df = pd.DataFrame(trending_people)\n",
    "  people_df.drop('known_for', axis=1, inplace=True)\n",
    "  people_df.set_index('id', inplace=True)\n",
    "  people_df['profile_path'] = 'https://image.tmdb.org/t/p/w220_and_h330_face' + people_df['profile_path']\n",
    "  \n",
    "  return people_df"
   ]
  },
  {
   "cell_type": "code",
   "execution_count": 29,
   "metadata": {
    "executionInfo": {
     "elapsed": 4092,
     "status": "ok",
     "timestamp": 1670549973756,
     "user": {
      "displayName": "Davi Felix de Lima",
      "userId": "03574789560232552792"
     },
     "user_tz": 180
    },
    "id": "NMfP3GYD0OP0"
   },
   "outputs": [],
   "source": [
    "trending_people = get_trending('person', 'week', ['imdb_id'], 2)\n",
    "trending_people_formatted = serialize_people(trending_people)"
   ]
  },
  {
   "cell_type": "code",
   "execution_count": 30,
   "metadata": {
    "executionInfo": {
     "elapsed": 43,
     "status": "ok",
     "timestamp": 1670549973758,
     "user": {
      "displayName": "Davi Felix de Lima",
      "userId": "03574789560232552792"
     },
     "user_tz": 180
    },
    "id": "WpB7KGnF2ReI"
   },
   "outputs": [],
   "source": [
    "trending_people_df = make_trending_people_df(trending_people)"
   ]
  },
  {
   "cell_type": "code",
   "execution_count": 31,
   "metadata": {
    "colab": {
     "base_uri": "https://localhost:8080/",
     "height": 1000
    },
    "executionInfo": {
     "elapsed": 44,
     "status": "ok",
     "timestamp": 1670549973761,
     "user": {
      "displayName": "Davi Felix de Lima",
      "userId": "03574789560232552792"
     },
     "user_tz": 180
    },
    "id": "VoqteN3vuAsC",
    "outputId": "1fc556a8-6645-478c-ae0d-cd88da14ac10"
   },
   "outputs": [
    {
     "data": {
      "text/html": [
       "<div>\n",
       "<style scoped>\n",
       "    .dataframe tbody tr th:only-of-type {\n",
       "        vertical-align: middle;\n",
       "    }\n",
       "\n",
       "    .dataframe tbody tr th {\n",
       "        vertical-align: top;\n",
       "    }\n",
       "\n",
       "    .dataframe thead th {\n",
       "        text-align: right;\n",
       "    }\n",
       "</style>\n",
       "<table border=\"1\" class=\"dataframe\">\n",
       "  <thead>\n",
       "    <tr style=\"text-align: right;\">\n",
       "      <th></th>\n",
       "      <th>adult</th>\n",
       "      <th>name</th>\n",
       "      <th>original_name</th>\n",
       "      <th>media_type</th>\n",
       "      <th>popularity</th>\n",
       "      <th>gender</th>\n",
       "      <th>known_for_department</th>\n",
       "      <th>profile_path</th>\n",
       "      <th>imdb_id</th>\n",
       "      <th>known_for_name</th>\n",
       "      <th>known_for_id</th>\n",
       "    </tr>\n",
       "    <tr>\n",
       "      <th>id</th>\n",
       "      <th></th>\n",
       "      <th></th>\n",
       "      <th></th>\n",
       "      <th></th>\n",
       "      <th></th>\n",
       "      <th></th>\n",
       "      <th></th>\n",
       "      <th></th>\n",
       "      <th></th>\n",
       "      <th></th>\n",
       "      <th></th>\n",
       "    </tr>\n",
       "  </thead>\n",
       "  <tbody>\n",
       "    <tr>\n",
       "      <th>3714087</th>\n",
       "      <td>False</td>\n",
       "      <td>Yua Mikami</td>\n",
       "      <td>Yua Mikami</td>\n",
       "      <td>person</td>\n",
       "      <td>4.753</td>\n",
       "      <td>1</td>\n",
       "      <td>Acting</td>\n",
       "      <td>https://image.tmdb.org/t/p/w220_and_h330_face/...</td>\n",
       "      <td>None</td>\n",
       "      <td>[SKE48 Spring Concert 2012, SKE48 Request Hour...</td>\n",
       "      <td>[1028092, 1031684, 1033456]</td>\n",
       "    </tr>\n",
       "    <tr>\n",
       "      <th>974169</th>\n",
       "      <td>False</td>\n",
       "      <td>Jenna Ortega</td>\n",
       "      <td>Jenna Ortega</td>\n",
       "      <td>person</td>\n",
       "      <td>409.959</td>\n",
       "      <td>1</td>\n",
       "      <td>Acting</td>\n",
       "      <td>https://image.tmdb.org/t/p/w220_and_h330_face/...</td>\n",
       "      <td>nm4911194</td>\n",
       "      <td>[Wandinha, X: A Marca da Morte, Pânico]</td>\n",
       "      <td>[119051, 760104, 646385]</td>\n",
       "    </tr>\n",
       "    <tr>\n",
       "      <th>2888</th>\n",
       "      <td>False</td>\n",
       "      <td>Will Smith</td>\n",
       "      <td>Will Smith</td>\n",
       "      <td>person</td>\n",
       "      <td>35.199</td>\n",
       "      <td>2</td>\n",
       "      <td>Acting</td>\n",
       "      <td>https://image.tmdb.org/t/p/w220_and_h330_face/...</td>\n",
       "      <td>nm0000226</td>\n",
       "      <td>[Esquadrão Suicida, Eu Sou a Lenda, Eu, Robô]</td>\n",
       "      <td>[297761, 6479, 2048]</td>\n",
       "    </tr>\n",
       "    <tr>\n",
       "      <th>3453397</th>\n",
       "      <td>False</td>\n",
       "      <td>雷火剑</td>\n",
       "      <td>雷火剑</td>\n",
       "      <td>person</td>\n",
       "      <td>3.392</td>\n",
       "      <td>0</td>\n",
       "      <td>Directing</td>\n",
       "      <td>NaN</td>\n",
       "      <td>None</td>\n",
       "      <td>NaN</td>\n",
       "      <td>NaN</td>\n",
       "    </tr>\n",
       "    <tr>\n",
       "      <th>500</th>\n",
       "      <td>False</td>\n",
       "      <td>Tom Cruise</td>\n",
       "      <td>Tom Cruise</td>\n",
       "      <td>person</td>\n",
       "      <td>27.480</td>\n",
       "      <td>2</td>\n",
       "      <td>Acting</td>\n",
       "      <td>https://image.tmdb.org/t/p/w220_and_h330_face/...</td>\n",
       "      <td>nm0000129</td>\n",
       "      <td>[No Limite do Amanhã, Oblivion, Missão: Imposs...</td>\n",
       "      <td>[137113, 75612, 56292]</td>\n",
       "    </tr>\n",
       "    <tr>\n",
       "      <th>287</th>\n",
       "      <td>False</td>\n",
       "      <td>Brad Pitt</td>\n",
       "      <td>Brad Pitt</td>\n",
       "      <td>person</td>\n",
       "      <td>47.876</td>\n",
       "      <td>2</td>\n",
       "      <td>Acting</td>\n",
       "      <td>https://image.tmdb.org/t/p/w220_and_h330_face/...</td>\n",
       "      <td>nm0000093</td>\n",
       "      <td>[Bastardos Inglórios, Seven: Os Sete Crimes Ca...</td>\n",
       "      <td>[16869, 807, 72190]</td>\n",
       "    </tr>\n",
       "    <tr>\n",
       "      <th>62</th>\n",
       "      <td>False</td>\n",
       "      <td>Bruce Willis</td>\n",
       "      <td>Bruce Willis</td>\n",
       "      <td>person</td>\n",
       "      <td>41.116</td>\n",
       "      <td>2</td>\n",
       "      <td>Acting</td>\n",
       "      <td>https://image.tmdb.org/t/p/w220_and_h330_face/...</td>\n",
       "      <td>nm0000246</td>\n",
       "      <td>[O Sexto Sentido, Duro de Matar, O Quinto Elem...</td>\n",
       "      <td>[745, 562, 18]</td>\n",
       "    </tr>\n",
       "    <tr>\n",
       "      <th>18897</th>\n",
       "      <td>False</td>\n",
       "      <td>Jackie Chan</td>\n",
       "      <td>Jackie Chan</td>\n",
       "      <td>person</td>\n",
       "      <td>44.324</td>\n",
       "      <td>2</td>\n",
       "      <td>Acting</td>\n",
       "      <td>https://image.tmdb.org/t/p/w220_and_h330_face/...</td>\n",
       "      <td>nm0000329</td>\n",
       "      <td>[A Hora do Rush, A Hora do Rush 2, A Hora do R...</td>\n",
       "      <td>[2109, 5175, 5174]</td>\n",
       "    </tr>\n",
       "    <tr>\n",
       "      <th>6193</th>\n",
       "      <td>False</td>\n",
       "      <td>Leonardo DiCaprio</td>\n",
       "      <td>Leonardo DiCaprio</td>\n",
       "      <td>person</td>\n",
       "      <td>52.956</td>\n",
       "      <td>2</td>\n",
       "      <td>Acting</td>\n",
       "      <td>https://image.tmdb.org/t/p/w220_and_h330_face/...</td>\n",
       "      <td>nm0000138</td>\n",
       "      <td>[A Origem, Titanic, Ilha do Medo]</td>\n",
       "      <td>[27205, 597, 11324]</td>\n",
       "    </tr>\n",
       "    <tr>\n",
       "      <th>1796</th>\n",
       "      <td>False</td>\n",
       "      <td>Kirstie Alley</td>\n",
       "      <td>Kirstie Alley</td>\n",
       "      <td>person</td>\n",
       "      <td>66.940</td>\n",
       "      <td>1</td>\n",
       "      <td>Acting</td>\n",
       "      <td>https://image.tmdb.org/t/p/w220_and_h330_face/...</td>\n",
       "      <td>nm0000263</td>\n",
       "      <td>[Olha Quem Está Falando, Olha Quem Está Faland...</td>\n",
       "      <td>[9494, 9356, 33689]</td>\n",
       "    </tr>\n",
       "    <tr>\n",
       "      <th>31</th>\n",
       "      <td>False</td>\n",
       "      <td>Tom Hanks</td>\n",
       "      <td>Tom Hanks</td>\n",
       "      <td>person</td>\n",
       "      <td>77.096</td>\n",
       "      <td>2</td>\n",
       "      <td>Acting</td>\n",
       "      <td>https://image.tmdb.org/t/p/w220_and_h330_face/...</td>\n",
       "      <td>nm0000158</td>\n",
       "      <td>[Forrest Gump: O Contador de Histórias, Toy St...</td>\n",
       "      <td>[13, 862, 497]</td>\n",
       "    </tr>\n",
       "    <tr>\n",
       "      <th>138</th>\n",
       "      <td>False</td>\n",
       "      <td>Quentin Tarantino</td>\n",
       "      <td>Quentin Tarantino</td>\n",
       "      <td>person</td>\n",
       "      <td>18.998</td>\n",
       "      <td>2</td>\n",
       "      <td>Directing</td>\n",
       "      <td>https://image.tmdb.org/t/p/w220_and_h330_face/...</td>\n",
       "      <td>nm0000233</td>\n",
       "      <td>[Pulp Fiction: Tempo de Violência, Django Livr...</td>\n",
       "      <td>[680, 68718, 16869]</td>\n",
       "    </tr>\n",
       "    <tr>\n",
       "      <th>976</th>\n",
       "      <td>False</td>\n",
       "      <td>Jason Statham</td>\n",
       "      <td>Jason Statham</td>\n",
       "      <td>person</td>\n",
       "      <td>86.716</td>\n",
       "      <td>2</td>\n",
       "      <td>Acting</td>\n",
       "      <td>https://image.tmdb.org/t/p/w220_and_h330_face/...</td>\n",
       "      <td>nm0005458</td>\n",
       "      <td>[Snatch: Porcos e Diamantes, Megatubarão, Velo...</td>\n",
       "      <td>[107, 345940, 337339]</td>\n",
       "    </tr>\n",
       "    <tr>\n",
       "      <th>16483</th>\n",
       "      <td>False</td>\n",
       "      <td>Sylvester Stallone</td>\n",
       "      <td>Sylvester Stallone</td>\n",
       "      <td>person</td>\n",
       "      <td>34.540</td>\n",
       "      <td>2</td>\n",
       "      <td>Acting</td>\n",
       "      <td>https://image.tmdb.org/t/p/w220_and_h330_face/...</td>\n",
       "      <td>nm0000230</td>\n",
       "      <td>[Os Mercenários, Rocky: Um Lutador, Os Mercená...</td>\n",
       "      <td>[27578, 1366, 76163]</td>\n",
       "    </tr>\n",
       "    <tr>\n",
       "      <th>3894</th>\n",
       "      <td>False</td>\n",
       "      <td>Christian Bale</td>\n",
       "      <td>Christian Bale</td>\n",
       "      <td>person</td>\n",
       "      <td>26.570</td>\n",
       "      <td>2</td>\n",
       "      <td>Acting</td>\n",
       "      <td>https://image.tmdb.org/t/p/w220_and_h330_face/...</td>\n",
       "      <td>nm0000288</td>\n",
       "      <td>[Batman: O Cavaleiro das Trevas, Batman: O Cav...</td>\n",
       "      <td>[155, 49026, 272]</td>\n",
       "    </tr>\n",
       "    <tr>\n",
       "      <th>6384</th>\n",
       "      <td>False</td>\n",
       "      <td>Keanu Reeves</td>\n",
       "      <td>Keanu Reeves</td>\n",
       "      <td>person</td>\n",
       "      <td>38.587</td>\n",
       "      <td>2</td>\n",
       "      <td>Acting</td>\n",
       "      <td>https://image.tmdb.org/t/p/w220_and_h330_face/...</td>\n",
       "      <td>nm0000206</td>\n",
       "      <td>[Matrix, John Wick: De Volta ao Jogo, John Wic...</td>\n",
       "      <td>[603, 245891, 324552]</td>\n",
       "    </tr>\n",
       "    <tr>\n",
       "      <th>2963</th>\n",
       "      <td>False</td>\n",
       "      <td>Nicolas Cage</td>\n",
       "      <td>Nicolas Cage</td>\n",
       "      <td>person</td>\n",
       "      <td>108.986</td>\n",
       "      <td>2</td>\n",
       "      <td>Acting</td>\n",
       "      <td>https://image.tmdb.org/t/p/w220_and_h330_face/...</td>\n",
       "      <td>nm0000115</td>\n",
       "      <td>[Os Croods, A Lenda do Tesouro Perdido, Motoqu...</td>\n",
       "      <td>[49519, 2059, 1250]</td>\n",
       "    </tr>\n",
       "    <tr>\n",
       "      <th>18918</th>\n",
       "      <td>False</td>\n",
       "      <td>Dwayne Johnson</td>\n",
       "      <td>Dwayne Johnson</td>\n",
       "      <td>person</td>\n",
       "      <td>36.857</td>\n",
       "      <td>2</td>\n",
       "      <td>Acting</td>\n",
       "      <td>https://image.tmdb.org/t/p/w220_and_h330_face/...</td>\n",
       "      <td>nm0425005</td>\n",
       "      <td>[Jumanji: Bem-Vindo à Selva, Terremoto: A Falh...</td>\n",
       "      <td>[353486, 254128, 512200]</td>\n",
       "    </tr>\n",
       "    <tr>\n",
       "      <th>525</th>\n",
       "      <td>False</td>\n",
       "      <td>Christopher Nolan</td>\n",
       "      <td>Christopher Nolan</td>\n",
       "      <td>person</td>\n",
       "      <td>11.890</td>\n",
       "      <td>2</td>\n",
       "      <td>Directing</td>\n",
       "      <td>https://image.tmdb.org/t/p/w220_and_h330_face/...</td>\n",
       "      <td>nm0634240</td>\n",
       "      <td>[A Origem, Interestelar, Batman: O Cavaleiro d...</td>\n",
       "      <td>[27205, 157336, 155]</td>\n",
       "    </tr>\n",
       "    <tr>\n",
       "      <th>1245</th>\n",
       "      <td>False</td>\n",
       "      <td>Scarlett Johansson</td>\n",
       "      <td>Scarlett Johansson</td>\n",
       "      <td>person</td>\n",
       "      <td>63.169</td>\n",
       "      <td>1</td>\n",
       "      <td>Acting</td>\n",
       "      <td>https://image.tmdb.org/t/p/w220_and_h330_face/...</td>\n",
       "      <td>nm0424060</td>\n",
       "      <td>[Lucy, Viúva Negra, Capitão América 2: O Solda...</td>\n",
       "      <td>[240832, 497698, 100402]</td>\n",
       "    </tr>\n",
       "    <tr>\n",
       "      <th>2461</th>\n",
       "      <td>False</td>\n",
       "      <td>Mel Gibson</td>\n",
       "      <td>Mel Gibson</td>\n",
       "      <td>person</td>\n",
       "      <td>50.759</td>\n",
       "      <td>2</td>\n",
       "      <td>Acting</td>\n",
       "      <td>https://image.tmdb.org/t/p/w220_and_h330_face/...</td>\n",
       "      <td>nm0000154</td>\n",
       "      <td>[Coração Valente, Sinais, A Fuga das Galinhas]</td>\n",
       "      <td>[197, 2675, 7443]</td>\n",
       "    </tr>\n",
       "    <tr>\n",
       "      <th>5655</th>\n",
       "      <td>False</td>\n",
       "      <td>Wes Anderson</td>\n",
       "      <td>Wes Anderson</td>\n",
       "      <td>person</td>\n",
       "      <td>6.975</td>\n",
       "      <td>2</td>\n",
       "      <td>Directing</td>\n",
       "      <td>https://image.tmdb.org/t/p/w220_and_h330_face/...</td>\n",
       "      <td>nm0027572</td>\n",
       "      <td>[O Grande Hotel Budapeste, Moonrise Kingdom, O...</td>\n",
       "      <td>[120467, 83666, 10315]</td>\n",
       "    </tr>\n",
       "    <tr>\n",
       "      <th>10859</th>\n",
       "      <td>False</td>\n",
       "      <td>Ryan Reynolds</td>\n",
       "      <td>Ryan Reynolds</td>\n",
       "      <td>person</td>\n",
       "      <td>61.766</td>\n",
       "      <td>2</td>\n",
       "      <td>Acting</td>\n",
       "      <td>https://image.tmdb.org/t/p/w220_and_h330_face/...</td>\n",
       "      <td>nm0005351</td>\n",
       "      <td>[Deadpool, Deadpool 2, Free Guy: Assumindo o C...</td>\n",
       "      <td>[293660, 383498, 550988]</td>\n",
       "    </tr>\n",
       "    <tr>\n",
       "      <th>234352</th>\n",
       "      <td>False</td>\n",
       "      <td>Margot Robbie</td>\n",
       "      <td>Margot Robbie</td>\n",
       "      <td>person</td>\n",
       "      <td>38.335</td>\n",
       "      <td>1</td>\n",
       "      <td>Acting</td>\n",
       "      <td>https://image.tmdb.org/t/p/w220_and_h330_face/...</td>\n",
       "      <td>nm3053338</td>\n",
       "      <td>[Aves de Rapina: Arlequina e sua Emancipação F...</td>\n",
       "      <td>[495764, 106646, 436969]</td>\n",
       "    </tr>\n",
       "    <tr>\n",
       "      <th>510</th>\n",
       "      <td>False</td>\n",
       "      <td>Tim Burton</td>\n",
       "      <td>Tim Burton</td>\n",
       "      <td>person</td>\n",
       "      <td>24.774</td>\n",
       "      <td>2</td>\n",
       "      <td>Directing</td>\n",
       "      <td>https://image.tmdb.org/t/p/w220_and_h330_face/...</td>\n",
       "      <td>nm0000318</td>\n",
       "      <td>[A Fantástica Fábrica de Chocolate, Alice no P...</td>\n",
       "      <td>[118, 12155, 162]</td>\n",
       "    </tr>\n",
       "    <tr>\n",
       "      <th>82732</th>\n",
       "      <td>False</td>\n",
       "      <td>Mohanlal</td>\n",
       "      <td>Mohanlal</td>\n",
       "      <td>person</td>\n",
       "      <td>4.328</td>\n",
       "      <td>2</td>\n",
       "      <td>Acting</td>\n",
       "      <td>https://image.tmdb.org/t/p/w220_and_h330_face/...</td>\n",
       "      <td>nm0482320</td>\n",
       "      <td>[Drishyam, Drishyam 2, Jilla]</td>\n",
       "      <td>[244049, 706872, 246087]</td>\n",
       "    </tr>\n",
       "    <tr>\n",
       "      <th>6885</th>\n",
       "      <td>False</td>\n",
       "      <td>Charlize Theron</td>\n",
       "      <td>Charlize Theron</td>\n",
       "      <td>person</td>\n",
       "      <td>34.256</td>\n",
       "      <td>1</td>\n",
       "      <td>Acting</td>\n",
       "      <td>https://image.tmdb.org/t/p/w220_and_h330_face/...</td>\n",
       "      <td>nm0000234</td>\n",
       "      <td>[Mad Max: Estrada da Fúria, Atômica, Hancock]</td>\n",
       "      <td>[76341, 341013, 8960]</td>\n",
       "    </tr>\n",
       "    <tr>\n",
       "      <th>488</th>\n",
       "      <td>False</td>\n",
       "      <td>Steven Spielberg</td>\n",
       "      <td>Steven Spielberg</td>\n",
       "      <td>person</td>\n",
       "      <td>22.721</td>\n",
       "      <td>2</td>\n",
       "      <td>Directing</td>\n",
       "      <td>https://image.tmdb.org/t/p/w220_and_h330_face/...</td>\n",
       "      <td>nm0000229</td>\n",
       "      <td>[Jurassic Park: O Parque dos Dinossauros, O Re...</td>\n",
       "      <td>[329, 857, 424]</td>\n",
       "    </tr>\n",
       "    <tr>\n",
       "      <th>35780</th>\n",
       "      <td>False</td>\n",
       "      <td>Amitabh Bachchan</td>\n",
       "      <td>Amitabh Bachchan</td>\n",
       "      <td>person</td>\n",
       "      <td>6.545</td>\n",
       "      <td>2</td>\n",
       "      <td>Acting</td>\n",
       "      <td>https://image.tmdb.org/t/p/w220_and_h330_face/...</td>\n",
       "      <td>nm0000821</td>\n",
       "      <td>[O Grande Gatsby, O Amor dos Pais, Fogo real]</td>\n",
       "      <td>[64682, 10757, 12259]</td>\n",
       "    </tr>\n",
       "    <tr>\n",
       "      <th>3</th>\n",
       "      <td>False</td>\n",
       "      <td>Harrison Ford</td>\n",
       "      <td>Harrison Ford</td>\n",
       "      <td>person</td>\n",
       "      <td>29.053</td>\n",
       "      <td>2</td>\n",
       "      <td>Acting</td>\n",
       "      <td>https://image.tmdb.org/t/p/w220_and_h330_face/...</td>\n",
       "      <td>nm0000148</td>\n",
       "      <td>[Star Wars: O Despertar da Força, Blade Runner...</td>\n",
       "      <td>[140607, 78, 85]</td>\n",
       "    </tr>\n",
       "    <tr>\n",
       "      <th>190</th>\n",
       "      <td>False</td>\n",
       "      <td>Clint Eastwood</td>\n",
       "      <td>Clint Eastwood</td>\n",
       "      <td>person</td>\n",
       "      <td>61.432</td>\n",
       "      <td>2</td>\n",
       "      <td>Acting</td>\n",
       "      <td>https://image.tmdb.org/t/p/w220_and_h330_face/...</td>\n",
       "      <td>nm0000142</td>\n",
       "      <td>[Gran Torino, Três Homens em Conflito, A Mula]</td>\n",
       "      <td>[13223, 429, 504172]</td>\n",
       "    </tr>\n",
       "    <tr>\n",
       "      <th>85</th>\n",
       "      <td>False</td>\n",
       "      <td>Johnny Depp</td>\n",
       "      <td>Johnny Depp</td>\n",
       "      <td>person</td>\n",
       "      <td>20.338</td>\n",
       "      <td>2</td>\n",
       "      <td>Acting</td>\n",
       "      <td>https://image.tmdb.org/t/p/w220_and_h330_face/...</td>\n",
       "      <td>nm0000136</td>\n",
       "      <td>[Piratas do Caribe: A Maldição do Pérola Negra...</td>\n",
       "      <td>[22, 58, 118]</td>\n",
       "    </tr>\n",
       "    <tr>\n",
       "      <th>1190668</th>\n",
       "      <td>False</td>\n",
       "      <td>Timothée Chalamet</td>\n",
       "      <td>Timothée Chalamet</td>\n",
       "      <td>person</td>\n",
       "      <td>42.031</td>\n",
       "      <td>2</td>\n",
       "      <td>Acting</td>\n",
       "      <td>https://image.tmdb.org/t/p/w220_and_h330_face/...</td>\n",
       "      <td>nm3154303</td>\n",
       "      <td>[Me Chame Pelo Seu Nome, Duna, O Rei]</td>\n",
       "      <td>[398818, 438631, 504949]</td>\n",
       "    </tr>\n",
       "    <tr>\n",
       "      <th>57607</th>\n",
       "      <td>False</td>\n",
       "      <td>Stephen Chow</td>\n",
       "      <td>Stephen Chow</td>\n",
       "      <td>person</td>\n",
       "      <td>21.639</td>\n",
       "      <td>2</td>\n",
       "      <td>Acting</td>\n",
       "      <td>https://image.tmdb.org/t/p/w220_and_h330_face/...</td>\n",
       "      <td>nm0159507</td>\n",
       "      <td>[Kung-Fusão, Kung Fu Futebol Clube, CJ7 - O Br...</td>\n",
       "      <td>[9470, 11770, 13688]</td>\n",
       "    </tr>\n",
       "    <tr>\n",
       "      <th>3223</th>\n",
       "      <td>False</td>\n",
       "      <td>Robert Downey Jr.</td>\n",
       "      <td>Robert Downey Jr.</td>\n",
       "      <td>person</td>\n",
       "      <td>21.116</td>\n",
       "      <td>2</td>\n",
       "      <td>Acting</td>\n",
       "      <td>https://image.tmdb.org/t/p/w220_and_h330_face/...</td>\n",
       "      <td>nm0000375</td>\n",
       "      <td>[Os Vingadores: The Avengers, Vingadores: Guer...</td>\n",
       "      <td>[24428, 299536, 1726]</td>\n",
       "    </tr>\n",
       "    <tr>\n",
       "      <th>1136406</th>\n",
       "      <td>False</td>\n",
       "      <td>Tom Holland</td>\n",
       "      <td>Tom Holland</td>\n",
       "      <td>person</td>\n",
       "      <td>100.305</td>\n",
       "      <td>2</td>\n",
       "      <td>Acting</td>\n",
       "      <td>https://image.tmdb.org/t/p/w220_and_h330_face/...</td>\n",
       "      <td>nm4043618</td>\n",
       "      <td>[Homem-Aranha: De Volta ao Lar, Homem-Aranha: ...</td>\n",
       "      <td>[315635, 634649, 429617]</td>\n",
       "    </tr>\n",
       "    <tr>\n",
       "      <th>212208</th>\n",
       "      <td>False</td>\n",
       "      <td>Taylor Swift</td>\n",
       "      <td>Taylor Swift</td>\n",
       "      <td>person</td>\n",
       "      <td>13.407</td>\n",
       "      <td>1</td>\n",
       "      <td>Acting</td>\n",
       "      <td>https://image.tmdb.org/t/p/w220_and_h330_face/...</td>\n",
       "      <td>nm2357847</td>\n",
       "      <td>[O Lorax: Em Busca da Trúfula Perdida, Idas e ...</td>\n",
       "      <td>[73723, 32856, 227156]</td>\n",
       "    </tr>\n",
       "    <tr>\n",
       "      <th>1336</th>\n",
       "      <td>False</td>\n",
       "      <td>Jet Li</td>\n",
       "      <td>Jet Li</td>\n",
       "      <td>person</td>\n",
       "      <td>59.749</td>\n",
       "      <td>2</td>\n",
       "      <td>Acting</td>\n",
       "      <td>https://image.tmdb.org/t/p/w220_and_h330_face/...</td>\n",
       "      <td>nm0001472</td>\n",
       "      <td>[Os Mercenários, Os Mercenários 2, A Múmia - T...</td>\n",
       "      <td>[27578, 76163, 1735]</td>\n",
       "    </tr>\n",
       "    <tr>\n",
       "      <th>1032</th>\n",
       "      <td>False</td>\n",
       "      <td>Martin Scorsese</td>\n",
       "      <td>Martin Scorsese</td>\n",
       "      <td>person</td>\n",
       "      <td>9.798</td>\n",
       "      <td>2</td>\n",
       "      <td>Directing</td>\n",
       "      <td>https://image.tmdb.org/t/p/w220_and_h330_face/...</td>\n",
       "      <td>nm0000217</td>\n",
       "      <td>[Ilha do Medo, O Lobo de Wall Street, Os Infil...</td>\n",
       "      <td>[11324, 106646, 1422]</td>\n",
       "    </tr>\n",
       "    <tr>\n",
       "      <th>19292</th>\n",
       "      <td>False</td>\n",
       "      <td>Adam Sandler</td>\n",
       "      <td>Adam Sandler</td>\n",
       "      <td>person</td>\n",
       "      <td>24.911</td>\n",
       "      <td>2</td>\n",
       "      <td>Acting</td>\n",
       "      <td>https://image.tmdb.org/t/p/w220_and_h330_face/...</td>\n",
       "      <td>nm0001191</td>\n",
       "      <td>[Hotel Transilvânia, Pixels, Como Se Fosse a P...</td>\n",
       "      <td>[76492, 257344, 1824]</td>\n",
       "    </tr>\n",
       "  </tbody>\n",
       "</table>\n",
       "</div>"
      ],
      "text/plain": [
       "         adult                name       original_name media_type  popularity  \\\n",
       "id                                                                              \n",
       "3714087  False          Yua Mikami          Yua Mikami     person       4.753   \n",
       "974169   False        Jenna Ortega        Jenna Ortega     person     409.959   \n",
       "2888     False          Will Smith          Will Smith     person      35.199   \n",
       "3453397  False                 雷火剑                 雷火剑     person       3.392   \n",
       "500      False          Tom Cruise          Tom Cruise     person      27.480   \n",
       "287      False           Brad Pitt           Brad Pitt     person      47.876   \n",
       "62       False        Bruce Willis        Bruce Willis     person      41.116   \n",
       "18897    False         Jackie Chan         Jackie Chan     person      44.324   \n",
       "6193     False   Leonardo DiCaprio   Leonardo DiCaprio     person      52.956   \n",
       "1796     False       Kirstie Alley       Kirstie Alley     person      66.940   \n",
       "31       False           Tom Hanks           Tom Hanks     person      77.096   \n",
       "138      False   Quentin Tarantino   Quentin Tarantino     person      18.998   \n",
       "976      False       Jason Statham       Jason Statham     person      86.716   \n",
       "16483    False  Sylvester Stallone  Sylvester Stallone     person      34.540   \n",
       "3894     False      Christian Bale      Christian Bale     person      26.570   \n",
       "6384     False        Keanu Reeves        Keanu Reeves     person      38.587   \n",
       "2963     False        Nicolas Cage        Nicolas Cage     person     108.986   \n",
       "18918    False      Dwayne Johnson      Dwayne Johnson     person      36.857   \n",
       "525      False   Christopher Nolan   Christopher Nolan     person      11.890   \n",
       "1245     False  Scarlett Johansson  Scarlett Johansson     person      63.169   \n",
       "2461     False          Mel Gibson          Mel Gibson     person      50.759   \n",
       "5655     False        Wes Anderson        Wes Anderson     person       6.975   \n",
       "10859    False       Ryan Reynolds       Ryan Reynolds     person      61.766   \n",
       "234352   False       Margot Robbie       Margot Robbie     person      38.335   \n",
       "510      False          Tim Burton          Tim Burton     person      24.774   \n",
       "82732    False            Mohanlal            Mohanlal     person       4.328   \n",
       "6885     False     Charlize Theron     Charlize Theron     person      34.256   \n",
       "488      False    Steven Spielberg    Steven Spielberg     person      22.721   \n",
       "35780    False    Amitabh Bachchan    Amitabh Bachchan     person       6.545   \n",
       "3        False       Harrison Ford       Harrison Ford     person      29.053   \n",
       "190      False      Clint Eastwood      Clint Eastwood     person      61.432   \n",
       "85       False         Johnny Depp         Johnny Depp     person      20.338   \n",
       "1190668  False   Timothée Chalamet   Timothée Chalamet     person      42.031   \n",
       "57607    False        Stephen Chow        Stephen Chow     person      21.639   \n",
       "3223     False   Robert Downey Jr.   Robert Downey Jr.     person      21.116   \n",
       "1136406  False         Tom Holland         Tom Holland     person     100.305   \n",
       "212208   False        Taylor Swift        Taylor Swift     person      13.407   \n",
       "1336     False              Jet Li              Jet Li     person      59.749   \n",
       "1032     False     Martin Scorsese     Martin Scorsese     person       9.798   \n",
       "19292    False        Adam Sandler        Adam Sandler     person      24.911   \n",
       "\n",
       "         gender known_for_department  \\\n",
       "id                                     \n",
       "3714087       1               Acting   \n",
       "974169        1               Acting   \n",
       "2888          2               Acting   \n",
       "3453397       0            Directing   \n",
       "500           2               Acting   \n",
       "287           2               Acting   \n",
       "62            2               Acting   \n",
       "18897         2               Acting   \n",
       "6193          2               Acting   \n",
       "1796          1               Acting   \n",
       "31            2               Acting   \n",
       "138           2            Directing   \n",
       "976           2               Acting   \n",
       "16483         2               Acting   \n",
       "3894          2               Acting   \n",
       "6384          2               Acting   \n",
       "2963          2               Acting   \n",
       "18918         2               Acting   \n",
       "525           2            Directing   \n",
       "1245          1               Acting   \n",
       "2461          2               Acting   \n",
       "5655          2            Directing   \n",
       "10859         2               Acting   \n",
       "234352        1               Acting   \n",
       "510           2            Directing   \n",
       "82732         2               Acting   \n",
       "6885          1               Acting   \n",
       "488           2            Directing   \n",
       "35780         2               Acting   \n",
       "3             2               Acting   \n",
       "190           2               Acting   \n",
       "85            2               Acting   \n",
       "1190668       2               Acting   \n",
       "57607         2               Acting   \n",
       "3223          2               Acting   \n",
       "1136406       2               Acting   \n",
       "212208        1               Acting   \n",
       "1336          2               Acting   \n",
       "1032          2            Directing   \n",
       "19292         2               Acting   \n",
       "\n",
       "                                              profile_path    imdb_id  \\\n",
       "id                                                                      \n",
       "3714087  https://image.tmdb.org/t/p/w220_and_h330_face/...       None   \n",
       "974169   https://image.tmdb.org/t/p/w220_and_h330_face/...  nm4911194   \n",
       "2888     https://image.tmdb.org/t/p/w220_and_h330_face/...  nm0000226   \n",
       "3453397                                                NaN       None   \n",
       "500      https://image.tmdb.org/t/p/w220_and_h330_face/...  nm0000129   \n",
       "287      https://image.tmdb.org/t/p/w220_and_h330_face/...  nm0000093   \n",
       "62       https://image.tmdb.org/t/p/w220_and_h330_face/...  nm0000246   \n",
       "18897    https://image.tmdb.org/t/p/w220_and_h330_face/...  nm0000329   \n",
       "6193     https://image.tmdb.org/t/p/w220_and_h330_face/...  nm0000138   \n",
       "1796     https://image.tmdb.org/t/p/w220_and_h330_face/...  nm0000263   \n",
       "31       https://image.tmdb.org/t/p/w220_and_h330_face/...  nm0000158   \n",
       "138      https://image.tmdb.org/t/p/w220_and_h330_face/...  nm0000233   \n",
       "976      https://image.tmdb.org/t/p/w220_and_h330_face/...  nm0005458   \n",
       "16483    https://image.tmdb.org/t/p/w220_and_h330_face/...  nm0000230   \n",
       "3894     https://image.tmdb.org/t/p/w220_and_h330_face/...  nm0000288   \n",
       "6384     https://image.tmdb.org/t/p/w220_and_h330_face/...  nm0000206   \n",
       "2963     https://image.tmdb.org/t/p/w220_and_h330_face/...  nm0000115   \n",
       "18918    https://image.tmdb.org/t/p/w220_and_h330_face/...  nm0425005   \n",
       "525      https://image.tmdb.org/t/p/w220_and_h330_face/...  nm0634240   \n",
       "1245     https://image.tmdb.org/t/p/w220_and_h330_face/...  nm0424060   \n",
       "2461     https://image.tmdb.org/t/p/w220_and_h330_face/...  nm0000154   \n",
       "5655     https://image.tmdb.org/t/p/w220_and_h330_face/...  nm0027572   \n",
       "10859    https://image.tmdb.org/t/p/w220_and_h330_face/...  nm0005351   \n",
       "234352   https://image.tmdb.org/t/p/w220_and_h330_face/...  nm3053338   \n",
       "510      https://image.tmdb.org/t/p/w220_and_h330_face/...  nm0000318   \n",
       "82732    https://image.tmdb.org/t/p/w220_and_h330_face/...  nm0482320   \n",
       "6885     https://image.tmdb.org/t/p/w220_and_h330_face/...  nm0000234   \n",
       "488      https://image.tmdb.org/t/p/w220_and_h330_face/...  nm0000229   \n",
       "35780    https://image.tmdb.org/t/p/w220_and_h330_face/...  nm0000821   \n",
       "3        https://image.tmdb.org/t/p/w220_and_h330_face/...  nm0000148   \n",
       "190      https://image.tmdb.org/t/p/w220_and_h330_face/...  nm0000142   \n",
       "85       https://image.tmdb.org/t/p/w220_and_h330_face/...  nm0000136   \n",
       "1190668  https://image.tmdb.org/t/p/w220_and_h330_face/...  nm3154303   \n",
       "57607    https://image.tmdb.org/t/p/w220_and_h330_face/...  nm0159507   \n",
       "3223     https://image.tmdb.org/t/p/w220_and_h330_face/...  nm0000375   \n",
       "1136406  https://image.tmdb.org/t/p/w220_and_h330_face/...  nm4043618   \n",
       "212208   https://image.tmdb.org/t/p/w220_and_h330_face/...  nm2357847   \n",
       "1336     https://image.tmdb.org/t/p/w220_and_h330_face/...  nm0001472   \n",
       "1032     https://image.tmdb.org/t/p/w220_and_h330_face/...  nm0000217   \n",
       "19292    https://image.tmdb.org/t/p/w220_and_h330_face/...  nm0001191   \n",
       "\n",
       "                                            known_for_name  \\\n",
       "id                                                           \n",
       "3714087  [SKE48 Spring Concert 2012, SKE48 Request Hour...   \n",
       "974169             [Wandinha, X: A Marca da Morte, Pânico]   \n",
       "2888         [Esquadrão Suicida, Eu Sou a Lenda, Eu, Robô]   \n",
       "3453397                                                NaN   \n",
       "500      [No Limite do Amanhã, Oblivion, Missão: Imposs...   \n",
       "287      [Bastardos Inglórios, Seven: Os Sete Crimes Ca...   \n",
       "62       [O Sexto Sentido, Duro de Matar, O Quinto Elem...   \n",
       "18897    [A Hora do Rush, A Hora do Rush 2, A Hora do R...   \n",
       "6193                     [A Origem, Titanic, Ilha do Medo]   \n",
       "1796     [Olha Quem Está Falando, Olha Quem Está Faland...   \n",
       "31       [Forrest Gump: O Contador de Histórias, Toy St...   \n",
       "138      [Pulp Fiction: Tempo de Violência, Django Livr...   \n",
       "976      [Snatch: Porcos e Diamantes, Megatubarão, Velo...   \n",
       "16483    [Os Mercenários, Rocky: Um Lutador, Os Mercená...   \n",
       "3894     [Batman: O Cavaleiro das Trevas, Batman: O Cav...   \n",
       "6384     [Matrix, John Wick: De Volta ao Jogo, John Wic...   \n",
       "2963     [Os Croods, A Lenda do Tesouro Perdido, Motoqu...   \n",
       "18918    [Jumanji: Bem-Vindo à Selva, Terremoto: A Falh...   \n",
       "525      [A Origem, Interestelar, Batman: O Cavaleiro d...   \n",
       "1245     [Lucy, Viúva Negra, Capitão América 2: O Solda...   \n",
       "2461        [Coração Valente, Sinais, A Fuga das Galinhas]   \n",
       "5655     [O Grande Hotel Budapeste, Moonrise Kingdom, O...   \n",
       "10859    [Deadpool, Deadpool 2, Free Guy: Assumindo o C...   \n",
       "234352   [Aves de Rapina: Arlequina e sua Emancipação F...   \n",
       "510      [A Fantástica Fábrica de Chocolate, Alice no P...   \n",
       "82732                        [Drishyam, Drishyam 2, Jilla]   \n",
       "6885         [Mad Max: Estrada da Fúria, Atômica, Hancock]   \n",
       "488      [Jurassic Park: O Parque dos Dinossauros, O Re...   \n",
       "35780        [O Grande Gatsby, O Amor dos Pais, Fogo real]   \n",
       "3        [Star Wars: O Despertar da Força, Blade Runner...   \n",
       "190         [Gran Torino, Três Homens em Conflito, A Mula]   \n",
       "85       [Piratas do Caribe: A Maldição do Pérola Negra...   \n",
       "1190668              [Me Chame Pelo Seu Nome, Duna, O Rei]   \n",
       "57607    [Kung-Fusão, Kung Fu Futebol Clube, CJ7 - O Br...   \n",
       "3223     [Os Vingadores: The Avengers, Vingadores: Guer...   \n",
       "1136406  [Homem-Aranha: De Volta ao Lar, Homem-Aranha: ...   \n",
       "212208   [O Lorax: Em Busca da Trúfula Perdida, Idas e ...   \n",
       "1336     [Os Mercenários, Os Mercenários 2, A Múmia - T...   \n",
       "1032     [Ilha do Medo, O Lobo de Wall Street, Os Infil...   \n",
       "19292    [Hotel Transilvânia, Pixels, Como Se Fosse a P...   \n",
       "\n",
       "                        known_for_id  \n",
       "id                                    \n",
       "3714087  [1028092, 1031684, 1033456]  \n",
       "974169      [119051, 760104, 646385]  \n",
       "2888            [297761, 6479, 2048]  \n",
       "3453397                          NaN  \n",
       "500           [137113, 75612, 56292]  \n",
       "287              [16869, 807, 72190]  \n",
       "62                    [745, 562, 18]  \n",
       "18897             [2109, 5175, 5174]  \n",
       "6193             [27205, 597, 11324]  \n",
       "1796             [9494, 9356, 33689]  \n",
       "31                    [13, 862, 497]  \n",
       "138              [680, 68718, 16869]  \n",
       "976            [107, 345940, 337339]  \n",
       "16483           [27578, 1366, 76163]  \n",
       "3894               [155, 49026, 272]  \n",
       "6384           [603, 245891, 324552]  \n",
       "2963             [49519, 2059, 1250]  \n",
       "18918       [353486, 254128, 512200]  \n",
       "525             [27205, 157336, 155]  \n",
       "1245        [240832, 497698, 100402]  \n",
       "2461               [197, 2675, 7443]  \n",
       "5655          [120467, 83666, 10315]  \n",
       "10859       [293660, 383498, 550988]  \n",
       "234352      [495764, 106646, 436969]  \n",
       "510                [118, 12155, 162]  \n",
       "82732       [244049, 706872, 246087]  \n",
       "6885           [76341, 341013, 8960]  \n",
       "488                  [329, 857, 424]  \n",
       "35780          [64682, 10757, 12259]  \n",
       "3                   [140607, 78, 85]  \n",
       "190             [13223, 429, 504172]  \n",
       "85                     [22, 58, 118]  \n",
       "1190668     [398818, 438631, 504949]  \n",
       "57607           [9470, 11770, 13688]  \n",
       "3223           [24428, 299536, 1726]  \n",
       "1136406     [315635, 634649, 429617]  \n",
       "212208        [73723, 32856, 227156]  \n",
       "1336            [27578, 76163, 1735]  \n",
       "1032           [11324, 106646, 1422]  \n",
       "19292          [76492, 257344, 1824]  "
      ]
     },
     "execution_count": 31,
     "metadata": {},
     "output_type": "execute_result"
    }
   ],
   "source": [
    "trending_people_df"
   ]
  },
  {
   "cell_type": "markdown",
   "metadata": {
    "id": "VhMCGMZohQFa"
   },
   "source": [
    "## Visualização detalhada de filmes e séries"
   ]
  },
  {
   "cell_type": "markdown",
   "metadata": {
    "id": "fIT0asgQh9eo"
   },
   "source": [
    "Função que retorna um dataset formado a partir de uma string de busca específico. A ideia é que **ela pode ser usada com os termos mais encontrado pelo Crawler**"
   ]
  },
  {
   "cell_type": "code",
   "execution_count": 32,
   "metadata": {
    "executionInfo": {
     "elapsed": 246,
     "status": "ok",
     "timestamp": 1670550403289,
     "user": {
      "displayName": "Davi Felix de Lima",
      "userId": "03574789560232552792"
     },
     "user_tz": 180
    },
    "id": "m3IUb3qbh9Sx"
   },
   "outputs": [],
   "source": [
    "def query(media_type, query, pages, detail_fields, genres_map):\n",
    "  endpoint = f'/search/{media_type}'\n",
    "  params = {'query': query}\n",
    "  \n",
    "  final_list = make_media_list(endpoint, pages, media_type, detail_fields, params)\n",
    "  \n",
    "  formatted_list = serialize(final_list, genres_map)\n",
    "  final_df = make_media_dataframe(final_list)\n",
    "\n",
    "  \n",
    "  return final_df\n",
    "  "
   ]
  },
  {
   "cell_type": "code",
   "execution_count": 33,
   "metadata": {
    "colab": {
     "base_uri": "https://localhost:8080/"
    },
    "executionInfo": {
     "elapsed": 3513,
     "status": "ok",
     "timestamp": 1670550419771,
     "user": {
      "displayName": "Davi Felix de Lima",
      "userId": "03574789560232552792"
     },
     "user_tz": 180
    },
    "id": "RuhS6hvAs3e-",
    "outputId": "fbc82126-83be-4e2b-e9d9-a2d1fb2b4a33"
   },
   "outputs": [],
   "source": [
    "results = query('movie', 'Matrix', 2, movie_details, genres_map)"
   ]
  },
  {
   "cell_type": "markdown",
   "metadata": {
    "id": "awQd5MBPFxyd"
   },
   "source": [
    "# Top rated"
   ]
  },
  {
   "cell_type": "code",
   "execution_count": 34,
   "metadata": {
    "executionInfo": {
     "elapsed": 104,
     "status": "ok",
     "timestamp": 1670549976565,
     "user": {
      "displayName": "Davi Felix de Lima",
      "userId": "03574789560232552792"
     },
     "user_tz": 180
    },
    "id": "pu9d9AaqFzhL"
   },
   "outputs": [],
   "source": [
    "def get_route(route, media_type, detail_fields, pages, genres_map, params = None):\n",
    "    endpoint = f'/{media_type}/{route}'\n",
    "    \n",
    "    media_list = make_media_list(endpoint, pages, media_type, detail_fields, params)\n",
    "    formatted_list = serialize(media_list, genres_map)\n",
    "    return make_media_dataframe(formatted_list)"
   ]
  },
  {
   "cell_type": "code",
   "execution_count": 35,
   "metadata": {
    "executionInfo": {
     "elapsed": 4714,
     "status": "ok",
     "timestamp": 1670549981177,
     "user": {
      "displayName": "Davi Felix de Lima",
      "userId": "03574789560232552792"
     },
     "user_tz": 180
    },
    "id": "OTlaUmCwGkEn"
   },
   "outputs": [],
   "source": [
    "# popular_movies = get_route('popular', 'movie', movie_details, 2, genres_map)"
   ]
  },
  {
   "cell_type": "code",
   "execution_count": 36,
   "metadata": {
    "colab": {
     "base_uri": "https://localhost:8080/",
     "height": 649
    },
    "executionInfo": {
     "elapsed": 19,
     "status": "ok",
     "timestamp": 1670549981180,
     "user": {
      "displayName": "Davi Felix de Lima",
      "userId": "03574789560232552792"
     },
     "user_tz": 180
    },
    "id": "7olYiK4vIPb2",
    "outputId": "883ff78b-3cae-4f6f-d78a-0362d6e19439"
   },
   "outputs": [
    {
     "ename": "NameError",
     "evalue": "name 'popular_movies' is not defined",
     "output_type": "error",
     "traceback": [
      "\u001b[1;31m---------------------------------------------------------------------------\u001b[0m",
      "\u001b[1;31mNameError\u001b[0m                                 Traceback (most recent call last)",
      "Input \u001b[1;32mIn [36]\u001b[0m, in \u001b[0;36m<cell line: 1>\u001b[1;34m()\u001b[0m\n\u001b[1;32m----> 1\u001b[0m \u001b[43mpopular_movies\u001b[49m\u001b[38;5;241m.\u001b[39mhead()\n",
      "\u001b[1;31mNameError\u001b[0m: name 'popular_movies' is not defined"
     ]
    }
   ],
   "source": [
    "# popular_movies.head()"
   ]
  },
  {
   "cell_type": "code",
   "execution_count": null,
   "metadata": {
    "executionInfo": {
     "elapsed": 3365,
     "status": "ok",
     "timestamp": 1670549984529,
     "user": {
      "displayName": "Davi Felix de Lima",
      "userId": "03574789560232552792"
     },
     "user_tz": 180
    },
    "id": "1PATKgN7HzhI"
   },
   "outputs": [],
   "source": [
    "popular_tv = get_route('popular', 'tv', detail_fields, 2, genres_map)"
   ]
  },
  {
   "cell_type": "code",
   "execution_count": null,
   "metadata": {
    "colab": {
     "base_uri": "https://localhost:8080/",
     "height": 579
    },
    "executionInfo": {
     "elapsed": 13,
     "status": "ok",
     "timestamp": 1670549984531,
     "user": {
      "displayName": "Davi Felix de Lima",
      "userId": "03574789560232552792"
     },
     "user_tz": 180
    },
    "id": "Wmiwzf45ISXe",
    "outputId": "18337fdd-3262-4fc3-c926-f521e2d00c09"
   },
   "outputs": [],
   "source": [
    "popular_tv.head()"
   ]
  },
  {
   "cell_type": "code",
   "execution_count": null,
   "metadata": {
    "executionInfo": {
     "elapsed": 8780,
     "status": "ok",
     "timestamp": 1670549993302,
     "user": {
      "displayName": "Davi Felix de Lima",
      "userId": "03574789560232552792"
     },
     "user_tz": 180
    },
    "id": "4UifUM4-IDYO"
   },
   "outputs": [],
   "source": [
    "top_rated_movies = get_route('top_rated', 'movie', movie_details, 5, genres_map)"
   ]
  },
  {
   "cell_type": "code",
   "execution_count": null,
   "metadata": {
    "colab": {
     "base_uri": "https://localhost:8080/",
     "height": 683
    },
    "executionInfo": {
     "elapsed": 18,
     "status": "ok",
     "timestamp": 1670549993307,
     "user": {
      "displayName": "Davi Felix de Lima",
      "userId": "03574789560232552792"
     },
     "user_tz": 180
    },
    "id": "EOBbUYUNIJXO",
    "outputId": "fdb7718d-c8c6-478b-857b-eca15e39c705"
   },
   "outputs": [],
   "source": [
    "top_rated_movies.head()"
   ]
  },
  {
   "cell_type": "code",
   "execution_count": null,
   "metadata": {
    "executionInfo": {
     "elapsed": 1168,
     "status": "ok",
     "timestamp": 1670549994461,
     "user": {
      "displayName": "Davi Felix de Lima",
      "userId": "03574789560232552792"
     },
     "user_tz": 180
    },
    "id": "aDp5zFj1Jug2"
   },
   "outputs": [],
   "source": [
    "upcoming = get_route('upcoming', 'movie', movie_details, 1, genres_map, {'region': 'BR'})"
   ]
  },
  {
   "cell_type": "code",
   "execution_count": null,
   "metadata": {
    "colab": {
     "base_uri": "https://localhost:8080/",
     "height": 562
    },
    "executionInfo": {
     "elapsed": 11,
     "status": "ok",
     "timestamp": 1670549994462,
     "user": {
      "displayName": "Davi Felix de Lima",
      "userId": "03574789560232552792"
     },
     "user_tz": 180
    },
    "id": "OZWBkFd6J2dG",
    "outputId": "422248a4-8d3f-470e-97f8-9958ac7abe25"
   },
   "outputs": [],
   "source": [
    "upcoming.head()"
   ]
  },
  {
   "cell_type": "markdown",
   "metadata": {
    "id": "iOp68kinR8-n"
   },
   "source": [
    "# Lidando com o `daily export file`"
   ]
  },
  {
   "cell_type": "markdown",
   "metadata": {
    "id": "XNKwy2R2oeHJ"
   },
   "source": [
    "Esse arquivo é exportado diariamente para o link ```http://files.tmdb.org/p/exports/movie_ids_[mm]_[dd]_[yyyy].json.gz``` com uma série de `ids` válidos"
   ]
  },
  {
   "cell_type": "code",
   "execution_count": null,
   "metadata": {
    "executionInfo": {
     "elapsed": 12,
     "status": "ok",
     "timestamp": 1670549994465,
     "user": {
      "displayName": "Davi Felix de Lima",
      "userId": "03574789560232552792"
     },
     "user_tz": 180
    },
    "id": "MgI7EeAdtp2_"
   },
   "outputs": [],
   "source": [
    "def get_daily_movies(day, month, n, details):\n",
    "  day = str(day).zfill(2)\n",
    "  month = str(month).zfill(2) \n",
    "  url = f'https://files.tmdb.org/p/exports/movie_ids_{month}_{day}_2022.json.gz'\n",
    "\n",
    "  response = requests.get(url, stream=True)\n",
    "  daily_movies = []\n",
    "\n",
    "  try:\n",
    "    with gzip.GzipFile(fileobj=response.raw,  mode='rb') as daily_file:\n",
    "      for i in range(n):\n",
    "        movie = json.loads(daily_file.readline())\n",
    "        complete('movie', movie, details)\n",
    "        daily_movies.append(movie)\n",
    "\n",
    "      daily_movies_formatted = serialize(daily_movies, genres_map)\n",
    "      daily = make_media_dataframe(daily_movies_formatted)\n",
    "      return daily\n",
    "  except FileNotFoundError as e:\n",
    "      print('Arquivo não encontrado')\n"
   ]
  },
  {
   "cell_type": "code",
   "execution_count": null,
   "metadata": {
    "executionInfo": {
     "elapsed": 1847,
     "status": "ok",
     "timestamp": 1670549996301,
     "user": {
      "displayName": "Davi Felix de Lima",
      "userId": "03574789560232552792"
     },
     "user_tz": 180
    },
    "id": "PbcvLVQ8u7uw"
   },
   "outputs": [],
   "source": [
    "extraDetails = movie_details + [\n",
    "      {'fieldName': 'genres', 'finalName': 'genre_ids', 'func': lambda genres: [g['id'] for g in genres]},\n",
    "      'poster_path',\n",
    "      'release_date',\n",
    "  ]\n",
    "daily_20 = get_daily_movies(day=22, month=11, n=20, details=extraDetails)"
   ]
  },
  {
   "cell_type": "code",
   "execution_count": null,
   "metadata": {
    "colab": {
     "base_uri": "https://localhost:8080/"
    },
    "executionInfo": {
     "elapsed": 20,
     "status": "ok",
     "timestamp": 1670549996308,
     "user": {
      "displayName": "Davi Felix de Lima",
      "userId": "03574789560232552792"
     },
     "user_tz": 180
    },
    "id": "9o-EXrspuTS3",
    "outputId": "45b26885-1260-452d-a835-f4ed33df1f09"
   },
   "outputs": [],
   "source": [
    "daily_20.shape"
   ]
  },
  {
   "cell_type": "code",
   "execution_count": null,
   "metadata": {
    "colab": {
     "base_uri": "https://localhost:8080/",
     "height": 458
    },
    "executionInfo": {
     "elapsed": 19,
     "status": "ok",
     "timestamp": 1670549996310,
     "user": {
      "displayName": "Davi Felix de Lima",
      "userId": "03574789560232552792"
     },
     "user_tz": 180
    },
    "id": "BuCaWQhOuVZO",
    "outputId": "589b424e-1f14-427f-8d03-5bd36ac5e20a"
   },
   "outputs": [],
   "source": [
    "daily_20.head()"
   ]
  },
  {
   "cell_type": "markdown",
   "metadata": {
    "id": "W1NKi3oLlhNy"
   },
   "source": [
    "## Filtrar filmes pela data de lançamento"
   ]
  },
  {
   "cell_type": "code",
   "execution_count": 42,
   "metadata": {
    "executionInfo": {
     "elapsed": 249,
     "status": "ok",
     "timestamp": 1670554026649,
     "user": {
      "displayName": "Davi Felix de Lima",
      "userId": "03574789560232552792"
     },
     "user_tz": 180
    },
    "id": "TDbHwUDXlkY9"
   },
   "outputs": [],
   "source": [
    "def get_movies_in_date_range(initial_year, final_year, movie_details, pages, sorting = 'asc'):\n",
    "  endpoint = '/discover/movie'\n",
    "  initial_date = f'{initial_year}-01-01'\n",
    "  final_date = f'{final_year}-12-31'\n",
    "  params = {'primary_release_date.gte': initial_date, 'primary_release_date.lte': final_date, 'sort_by': f'primary_release_date.{sorting}'}\n",
    "  results = make_media_list(endpoint, pages, 'movie', movie_details, params)\n",
    "  serialized = serialize(results, genres_map)\n",
    "  return make_media_dataframe(serialized)"
   ]
  },
  {
   "cell_type": "code",
   "execution_count": 43,
   "metadata": {
    "colab": {
     "base_uri": "https://localhost:8080/",
     "height": 1000
    },
    "executionInfo": {
     "elapsed": 4834,
     "status": "ok",
     "timestamp": 1670554169262,
     "user": {
      "displayName": "Davi Felix de Lima",
      "userId": "03574789560232552792"
     },
     "user_tz": 180
    },
    "id": "ID412HSRus24",
    "outputId": "da001137-9989-4529-fa88-448beae811d8"
   },
   "outputs": [],
   "source": [
    "# cada \"pages\" tem 20 filmes, entao se pegamos pages=10, pegamos 10pages*20filmes = 200 filmes\n",
    "df = get_movies_in_date_range(2020, 2021, movie_details, 200, 'desc')"
   ]
  },
  {
   "cell_type": "code",
   "execution_count": 44,
   "metadata": {},
   "outputs": [
    {
     "data": {
      "text/html": [
       "<div>\n",
       "<style scoped>\n",
       "    .dataframe tbody tr th:only-of-type {\n",
       "        vertical-align: middle;\n",
       "    }\n",
       "\n",
       "    .dataframe tbody tr th {\n",
       "        vertical-align: top;\n",
       "    }\n",
       "\n",
       "    .dataframe thead th {\n",
       "        text-align: right;\n",
       "    }\n",
       "</style>\n",
       "<table border=\"1\" class=\"dataframe\">\n",
       "  <thead>\n",
       "    <tr style=\"text-align: right;\">\n",
       "      <th></th>\n",
       "      <th>original_title</th>\n",
       "      <th>overview</th>\n",
       "      <th>popularity</th>\n",
       "      <th>poster_path</th>\n",
       "      <th>release_date</th>\n",
       "      <th>title</th>\n",
       "      <th>vote_average</th>\n",
       "      <th>vote_count</th>\n",
       "      <th>imdb_id</th>\n",
       "      <th>status</th>\n",
       "      <th>revenue</th>\n",
       "      <th>budget</th>\n",
       "      <th>collection</th>\n",
       "      <th>productions</th>\n",
       "      <th>genres</th>\n",
       "      <th>release_year</th>\n",
       "    </tr>\n",
       "    <tr>\n",
       "      <th>id</th>\n",
       "      <th></th>\n",
       "      <th></th>\n",
       "      <th></th>\n",
       "      <th></th>\n",
       "      <th></th>\n",
       "      <th></th>\n",
       "      <th></th>\n",
       "      <th></th>\n",
       "      <th></th>\n",
       "      <th></th>\n",
       "      <th></th>\n",
       "      <th></th>\n",
       "      <th></th>\n",
       "      <th></th>\n",
       "      <th></th>\n",
       "      <th></th>\n",
       "    </tr>\n",
       "  </thead>\n",
       "  <tbody>\n",
       "    <tr>\n",
       "      <th>1056995</th>\n",
       "      <td>Вовка и зима в Тридевятом царстве</td>\n",
       "      <td></td>\n",
       "      <td>0.600</td>\n",
       "      <td>https://image.tmdb.org/t/p/w220_and_h330_face/...</td>\n",
       "      <td>2021-12-31</td>\n",
       "      <td>Вовка и зима в Тридевятом царстве</td>\n",
       "      <td>4.0</td>\n",
       "      <td>1</td>\n",
       "      <td>None</td>\n",
       "      <td>Released</td>\n",
       "      <td>0</td>\n",
       "      <td>0</td>\n",
       "      <td>None</td>\n",
       "      <td>[]</td>\n",
       "      <td>[Animação]</td>\n",
       "      <td>2021</td>\n",
       "    </tr>\n",
       "    <tr>\n",
       "      <th>1054751</th>\n",
       "      <td>Rescuing a Fantasy Classic</td>\n",
       "      <td></td>\n",
       "      <td>0.600</td>\n",
       "      <td>NaN</td>\n",
       "      <td>2021-12-31</td>\n",
       "      <td>Rescuing a Fantasy Classic</td>\n",
       "      <td>7.0</td>\n",
       "      <td>1</td>\n",
       "      <td>None</td>\n",
       "      <td>Released</td>\n",
       "      <td>0</td>\n",
       "      <td>0</td>\n",
       "      <td>None</td>\n",
       "      <td>[Signal Hill Entertainment]</td>\n",
       "      <td>[Documentário]</td>\n",
       "      <td>2021</td>\n",
       "    </tr>\n",
       "    <tr>\n",
       "      <th>1049732</th>\n",
       "      <td>Diomar</td>\n",
       "      <td></td>\n",
       "      <td>0.600</td>\n",
       "      <td>NaN</td>\n",
       "      <td>2021-12-31</td>\n",
       "      <td>Diomar</td>\n",
       "      <td>0.0</td>\n",
       "      <td>0</td>\n",
       "      <td>tt13598760</td>\n",
       "      <td>Released</td>\n",
       "      <td>0</td>\n",
       "      <td>0</td>\n",
       "      <td>None</td>\n",
       "      <td>[]</td>\n",
       "      <td>[Documentário]</td>\n",
       "      <td>2021</td>\n",
       "    </tr>\n",
       "    <tr>\n",
       "      <th>1039528</th>\n",
       "      <td>Bien parecidas</td>\n",
       "      <td></td>\n",
       "      <td>0.600</td>\n",
       "      <td>https://image.tmdb.org/t/p/w220_and_h330_face/...</td>\n",
       "      <td>2021-12-31</td>\n",
       "      <td>Bien parecidas</td>\n",
       "      <td>0.0</td>\n",
       "      <td>0</td>\n",
       "      <td>None</td>\n",
       "      <td>Released</td>\n",
       "      <td>0</td>\n",
       "      <td>0</td>\n",
       "      <td>None</td>\n",
       "      <td>[Villanos Cine, Ácidas Films, Fire Pit Studios]</td>\n",
       "      <td>[Drama]</td>\n",
       "      <td>2021</td>\n",
       "    </tr>\n",
       "    <tr>\n",
       "      <th>1037342</th>\n",
       "      <td>Hay algo que no he dicho</td>\n",
       "      <td></td>\n",
       "      <td>0.600</td>\n",
       "      <td>https://image.tmdb.org/t/p/w220_and_h330_face/...</td>\n",
       "      <td>2021-12-31</td>\n",
       "      <td>Hay algo que no he dicho</td>\n",
       "      <td>0.0</td>\n",
       "      <td>0</td>\n",
       "      <td>None</td>\n",
       "      <td>Released</td>\n",
       "      <td>0</td>\n",
       "      <td>0</td>\n",
       "      <td>None</td>\n",
       "      <td>[]</td>\n",
       "      <td>[]</td>\n",
       "      <td>2021</td>\n",
       "    </tr>\n",
       "    <tr>\n",
       "      <th>...</th>\n",
       "      <td>...</td>\n",
       "      <td>...</td>\n",
       "      <td>...</td>\n",
       "      <td>...</td>\n",
       "      <td>...</td>\n",
       "      <td>...</td>\n",
       "      <td>...</td>\n",
       "      <td>...</td>\n",
       "      <td>...</td>\n",
       "      <td>...</td>\n",
       "      <td>...</td>\n",
       "      <td>...</td>\n",
       "      <td>...</td>\n",
       "      <td>...</td>\n",
       "      <td>...</td>\n",
       "      <td>...</td>\n",
       "    </tr>\n",
       "    <tr>\n",
       "      <th>898029</th>\n",
       "      <td>Engomado</td>\n",
       "      <td></td>\n",
       "      <td>0.600</td>\n",
       "      <td>https://image.tmdb.org/t/p/w220_and_h330_face/...</td>\n",
       "      <td>2021-11-20</td>\n",
       "      <td>Engomado</td>\n",
       "      <td>0.0</td>\n",
       "      <td>0</td>\n",
       "      <td>None</td>\n",
       "      <td>Released</td>\n",
       "      <td>0</td>\n",
       "      <td>0</td>\n",
       "      <td>None</td>\n",
       "      <td>[]</td>\n",
       "      <td>[]</td>\n",
       "      <td>2021</td>\n",
       "    </tr>\n",
       "    <tr>\n",
       "      <th>898028</th>\n",
       "      <td>Érase una vez en Quizca</td>\n",
       "      <td></td>\n",
       "      <td>0.600</td>\n",
       "      <td>https://image.tmdb.org/t/p/w220_and_h330_face/...</td>\n",
       "      <td>2021-11-20</td>\n",
       "      <td>Érase una vez en Quizca</td>\n",
       "      <td>0.0</td>\n",
       "      <td>0</td>\n",
       "      <td>tt13176588</td>\n",
       "      <td>Released</td>\n",
       "      <td>0</td>\n",
       "      <td>0</td>\n",
       "      <td>None</td>\n",
       "      <td>[Cabeza Negra Cine]</td>\n",
       "      <td>[Documentário]</td>\n",
       "      <td>2021</td>\n",
       "    </tr>\n",
       "    <tr>\n",
       "      <th>898027</th>\n",
       "      <td>Las máquinas tristes</td>\n",
       "      <td></td>\n",
       "      <td>0.600</td>\n",
       "      <td>https://image.tmdb.org/t/p/w220_and_h330_face/...</td>\n",
       "      <td>2021-11-20</td>\n",
       "      <td>Las máquinas tristes</td>\n",
       "      <td>0.0</td>\n",
       "      <td>0</td>\n",
       "      <td>None</td>\n",
       "      <td>Released</td>\n",
       "      <td>0</td>\n",
       "      <td>0</td>\n",
       "      <td>None</td>\n",
       "      <td>[]</td>\n",
       "      <td>[Documentário]</td>\n",
       "      <td>2021</td>\n",
       "    </tr>\n",
       "    <tr>\n",
       "      <th>898023</th>\n",
       "      <td>Un cráneo</td>\n",
       "      <td></td>\n",
       "      <td>1.151</td>\n",
       "      <td>https://image.tmdb.org/t/p/w220_and_h330_face/...</td>\n",
       "      <td>2021-11-20</td>\n",
       "      <td>Un cráneo</td>\n",
       "      <td>0.0</td>\n",
       "      <td>0</td>\n",
       "      <td>None</td>\n",
       "      <td>Released</td>\n",
       "      <td>0</td>\n",
       "      <td>0</td>\n",
       "      <td>None</td>\n",
       "      <td>[]</td>\n",
       "      <td>[]</td>\n",
       "      <td>2021</td>\n",
       "    </tr>\n",
       "    <tr>\n",
       "      <th>898015</th>\n",
       "      <td>Chango, la luz descubre</td>\n",
       "      <td></td>\n",
       "      <td>1.139</td>\n",
       "      <td>https://image.tmdb.org/t/p/w220_and_h330_face/...</td>\n",
       "      <td>2021-11-20</td>\n",
       "      <td>Chango, la luz descubre</td>\n",
       "      <td>0.0</td>\n",
       "      <td>0</td>\n",
       "      <td>None</td>\n",
       "      <td>Released</td>\n",
       "      <td>0</td>\n",
       "      <td>0</td>\n",
       "      <td>None</td>\n",
       "      <td>[Hikuri Cine]</td>\n",
       "      <td>[Documentário]</td>\n",
       "      <td>2021</td>\n",
       "    </tr>\n",
       "  </tbody>\n",
       "</table>\n",
       "<p>4000 rows × 16 columns</p>\n",
       "</div>"
      ],
      "text/plain": [
       "                            original_title overview  popularity  \\\n",
       "id                                                                \n",
       "1056995  Вовка и зима в Тридевятом царстве                0.600   \n",
       "1054751         Rescuing a Fantasy Classic                0.600   \n",
       "1049732                             Diomar                0.600   \n",
       "1039528                     Bien parecidas                0.600   \n",
       "1037342           Hay algo que no he dicho                0.600   \n",
       "...                                    ...      ...         ...   \n",
       "898029                            Engomado                0.600   \n",
       "898028             Érase una vez en Quizca                0.600   \n",
       "898027                Las máquinas tristes                0.600   \n",
       "898023                           Un cráneo                1.151   \n",
       "898015             Chango, la luz descubre                1.139   \n",
       "\n",
       "                                               poster_path release_date  \\\n",
       "id                                                                        \n",
       "1056995  https://image.tmdb.org/t/p/w220_and_h330_face/...   2021-12-31   \n",
       "1054751                                                NaN   2021-12-31   \n",
       "1049732                                                NaN   2021-12-31   \n",
       "1039528  https://image.tmdb.org/t/p/w220_and_h330_face/...   2021-12-31   \n",
       "1037342  https://image.tmdb.org/t/p/w220_and_h330_face/...   2021-12-31   \n",
       "...                                                    ...          ...   \n",
       "898029   https://image.tmdb.org/t/p/w220_and_h330_face/...   2021-11-20   \n",
       "898028   https://image.tmdb.org/t/p/w220_and_h330_face/...   2021-11-20   \n",
       "898027   https://image.tmdb.org/t/p/w220_and_h330_face/...   2021-11-20   \n",
       "898023   https://image.tmdb.org/t/p/w220_and_h330_face/...   2021-11-20   \n",
       "898015   https://image.tmdb.org/t/p/w220_and_h330_face/...   2021-11-20   \n",
       "\n",
       "                                     title  vote_average  vote_count  \\\n",
       "id                                                                     \n",
       "1056995  Вовка и зима в Тридевятом царстве           4.0           1   \n",
       "1054751         Rescuing a Fantasy Classic           7.0           1   \n",
       "1049732                             Diomar           0.0           0   \n",
       "1039528                     Bien parecidas           0.0           0   \n",
       "1037342           Hay algo que no he dicho           0.0           0   \n",
       "...                                    ...           ...         ...   \n",
       "898029                            Engomado           0.0           0   \n",
       "898028             Érase una vez en Quizca           0.0           0   \n",
       "898027                Las máquinas tristes           0.0           0   \n",
       "898023                           Un cráneo           0.0           0   \n",
       "898015             Chango, la luz descubre           0.0           0   \n",
       "\n",
       "            imdb_id    status  revenue  budget collection  \\\n",
       "id                                                          \n",
       "1056995        None  Released        0       0       None   \n",
       "1054751        None  Released        0       0       None   \n",
       "1049732  tt13598760  Released        0       0       None   \n",
       "1039528        None  Released        0       0       None   \n",
       "1037342        None  Released        0       0       None   \n",
       "...             ...       ...      ...     ...        ...   \n",
       "898029         None  Released        0       0       None   \n",
       "898028   tt13176588  Released        0       0       None   \n",
       "898027         None  Released        0       0       None   \n",
       "898023         None  Released        0       0       None   \n",
       "898015         None  Released        0       0       None   \n",
       "\n",
       "                                             productions          genres  \\\n",
       "id                                                                         \n",
       "1056995                                               []      [Animação]   \n",
       "1054751                      [Signal Hill Entertainment]  [Documentário]   \n",
       "1049732                                               []  [Documentário]   \n",
       "1039528  [Villanos Cine, Ácidas Films, Fire Pit Studios]         [Drama]   \n",
       "1037342                                               []              []   \n",
       "...                                                  ...             ...   \n",
       "898029                                                []              []   \n",
       "898028                               [Cabeza Negra Cine]  [Documentário]   \n",
       "898027                                                []  [Documentário]   \n",
       "898023                                                []              []   \n",
       "898015                                     [Hikuri Cine]  [Documentário]   \n",
       "\n",
       "         release_year  \n",
       "id                     \n",
       "1056995          2021  \n",
       "1054751          2021  \n",
       "1049732          2021  \n",
       "1039528          2021  \n",
       "1037342          2021  \n",
       "...               ...  \n",
       "898029           2021  \n",
       "898028           2021  \n",
       "898027           2021  \n",
       "898023           2021  \n",
       "898015           2021  \n",
       "\n",
       "[4000 rows x 16 columns]"
      ]
     },
     "execution_count": 44,
     "metadata": {},
     "output_type": "execute_result"
    }
   ],
   "source": [
    "df"
   ]
  },
  {
   "cell_type": "code",
   "execution_count": 46,
   "metadata": {},
   "outputs": [],
   "source": [
    "df.to_csv(\"data_output/TMDB_2021_4000.csv\", index=False)"
   ]
  },
  {
   "cell_type": "code",
   "execution_count": null,
   "metadata": {},
   "outputs": [],
   "source": []
  }
 ],
 "metadata": {
  "colab": {
   "authorship_tag": "ABX9TyNZ3WRKgqqwucH5/vhViZ4+",
   "collapsed_sections": [
    "25ngACLLbbSZ",
    "0SAZ42-lwKE2"
   ],
   "provenance": []
  },
  "kernelspec": {
   "display_name": "Python 3",
   "language": "python",
   "name": "python3"
  },
  "language_info": {
   "codemirror_mode": {
    "name": "ipython",
    "version": 3
   },
   "file_extension": ".py",
   "mimetype": "text/x-python",
   "name": "python",
   "nbconvert_exporter": "python",
   "pygments_lexer": "ipython3",
   "version": "3.8.5"
  }
 },
 "nbformat": 4,
 "nbformat_minor": 1
}
